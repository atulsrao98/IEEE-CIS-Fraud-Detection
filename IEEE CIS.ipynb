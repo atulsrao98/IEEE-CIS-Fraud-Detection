{
 "cells": [
  {
   "cell_type": "code",
   "execution_count": 1,
   "metadata": {},
   "outputs": [],
   "source": [
    "#Importing the Libraries\n",
    "import numpy as np\n",
    "import pandas as pd \n",
    "import matplotlib.pyplot as plt"
   ]
  },
  {
   "cell_type": "markdown",
   "metadata": {},
   "source": [
    "## READING THE DATA - TRAIN_TRANSACTION "
   ]
  },
  {
   "cell_type": "code",
   "execution_count": 2,
   "metadata": {},
   "outputs": [],
   "source": [
    "data1=pd.read_csv(r\"D:\\Documents\\ML\\Kaggle\\IEEE CIS\\train_transaction.csv\")\n",
    "data_desc=data1.describe()"
   ]
  },
  {
   "cell_type": "code",
   "execution_count": 3,
   "metadata": {},
   "outputs": [
    {
     "name": "stdout",
     "output_type": "stream",
     "text": [
      "   TransactionID  isFraud  TransactionDT  TransactionAmt ProductCD  card1  \\\n",
      "0        2987000        0          86400            68.5         W  13926   \n",
      "1        2987001        0          86401            29.0         W   2755   \n",
      "2        2987002        0          86469            59.0         W   4663   \n",
      "3        2987003        0          86499            50.0         W  18132   \n",
      "4        2987004        0          86506            50.0         H   4497   \n",
      "\n",
      "   card2  card3       card4  card5  ... V330  V331  V332  V333  V334 V335  \\\n",
      "0    NaN  150.0    discover  142.0  ...  NaN   NaN   NaN   NaN   NaN  NaN   \n",
      "1  404.0  150.0  mastercard  102.0  ...  NaN   NaN   NaN   NaN   NaN  NaN   \n",
      "2  490.0  150.0        visa  166.0  ...  NaN   NaN   NaN   NaN   NaN  NaN   \n",
      "3  567.0  150.0  mastercard  117.0  ...  NaN   NaN   NaN   NaN   NaN  NaN   \n",
      "4  514.0  150.0  mastercard  102.0  ...  0.0   0.0   0.0   0.0   0.0  0.0   \n",
      "\n",
      "  V336  V337  V338  V339  \n",
      "0  NaN   NaN   NaN   NaN  \n",
      "1  NaN   NaN   NaN   NaN  \n",
      "2  NaN   NaN   NaN   NaN  \n",
      "3  NaN   NaN   NaN   NaN  \n",
      "4  0.0   0.0   0.0   0.0  \n",
      "\n",
      "[5 rows x 394 columns]\n"
     ]
    }
   ],
   "source": [
    "print(data1.head())"
   ]
  },
  {
   "cell_type": "code",
   "execution_count": 4,
   "metadata": {},
   "outputs": [
    {
     "name": "stdout",
     "output_type": "stream",
     "text": [
      "       TransactionID        isFraud  TransactionDT  TransactionAmt  \\\n",
      "count   5.905400e+05  590540.000000   5.905400e+05   590540.000000   \n",
      "mean    3.282270e+06       0.034990   7.372311e+06      135.027176   \n",
      "std     1.704744e+05       0.183755   4.617224e+06      239.162522   \n",
      "min     2.987000e+06       0.000000   8.640000e+04        0.251000   \n",
      "25%     3.134635e+06       0.000000   3.027058e+06       43.321000   \n",
      "50%     3.282270e+06       0.000000   7.306528e+06       68.769000   \n",
      "75%     3.429904e+06       0.000000   1.124662e+07      125.000000   \n",
      "max     3.577539e+06       1.000000   1.581113e+07    31937.391000   \n",
      "\n",
      "               card1          card2          card3          card5  \\\n",
      "count  590540.000000  581607.000000  588975.000000  586281.000000   \n",
      "mean     9898.734658     362.555488     153.194925     199.278897   \n",
      "std      4901.170153     157.793246      11.336444      41.244453   \n",
      "min      1000.000000     100.000000     100.000000     100.000000   \n",
      "25%      6019.000000     214.000000     150.000000     166.000000   \n",
      "50%      9678.000000     361.000000     150.000000     226.000000   \n",
      "75%     14184.000000     512.000000     150.000000     226.000000   \n",
      "max     18396.000000     600.000000     231.000000     237.000000   \n",
      "\n",
      "               addr1          addr2  ...          V330           V331  \\\n",
      "count  524834.000000  524834.000000  ...  82351.000000   82351.000000   \n",
      "mean      290.733794      86.800630  ...      0.775874     721.741883   \n",
      "std       101.741072       2.690623  ...      4.727971    6217.223583   \n",
      "min       100.000000      10.000000  ...      0.000000       0.000000   \n",
      "25%       204.000000      87.000000  ...      0.000000       0.000000   \n",
      "50%       299.000000      87.000000  ...      0.000000       0.000000   \n",
      "75%       330.000000      87.000000  ...      0.000000       0.000000   \n",
      "max       540.000000     102.000000  ...     55.000000  160000.000000   \n",
      "\n",
      "                V332           V333          V334         V335          V336  \\\n",
      "count   82351.000000   82351.000000  82351.000000  82351.00000  82351.000000   \n",
      "mean     1375.783644    1014.622782      9.807015     59.16455     28.530903   \n",
      "std     11169.275702    7955.735482    243.861391    387.62948    274.576920   \n",
      "min         0.000000       0.000000      0.000000      0.00000      0.000000   \n",
      "25%         0.000000       0.000000      0.000000      0.00000      0.000000   \n",
      "50%         0.000000       0.000000      0.000000      0.00000      0.000000   \n",
      "75%        25.000000       0.000000      0.000000      0.00000      0.000000   \n",
      "max    160000.000000  160000.000000  55125.000000  55125.00000  55125.000000   \n",
      "\n",
      "                V337           V338           V339  \n",
      "count   82351.000000   82351.000000   82351.000000  \n",
      "mean       55.352422     151.160542     100.700882  \n",
      "std       668.486833    1095.034387     814.946722  \n",
      "min         0.000000       0.000000       0.000000  \n",
      "25%         0.000000       0.000000       0.000000  \n",
      "50%         0.000000       0.000000       0.000000  \n",
      "75%         0.000000       0.000000       0.000000  \n",
      "max    104060.000000  104060.000000  104060.000000  \n",
      "\n",
      "[8 rows x 380 columns]\n"
     ]
    }
   ],
   "source": [
    "print(data_desc)"
   ]
  },
  {
   "cell_type": "markdown",
   "metadata": {},
   "source": [
    "## COUNTING THE NUMBER OF FRADULENT AND NON FRADULENT TRANSACTIONS"
   ]
  },
  {
   "cell_type": "code",
   "execution_count": 5,
   "metadata": {},
   "outputs": [
    {
     "name": "stdout",
     "output_type": "stream",
     "text": [
      "Normal Transaction :  569877\n",
      "Fradulent Transaction :  20663\n"
     ]
    }
   ],
   "source": [
    "from collections import Counter\n",
    "c=Counter(data1['isFraud'])\n",
    "print(\"Normal Transaction : \",c[0])\n",
    "print(\"Fradulent Transaction : \",c[1])"
   ]
  },
  {
   "cell_type": "markdown",
   "metadata": {},
   "source": [
    "## ENCODING CATEGORICAL AND MISSING DATA "
   ]
  },
  {
   "cell_type": "code",
   "execution_count": 6,
   "metadata": {},
   "outputs": [],
   "source": [
    "data1['ProductCD'].fillna(\"No Type\",inplace=True)\n",
    "product_type=[]\n",
    "for i in range(len(data1['ProductCD'])):\n",
    "    if(data1.loc[i,'ProductCD'] not in product_type):\n",
    "        product_type.append(data1.loc[i,'ProductCD'])\n",
    "data1['ProductCD']=data1['ProductCD'].map({'W':1,'H':2,'C':3,'S':4,'R':5})"
   ]
  },
  {
   "cell_type": "code",
   "execution_count": 7,
   "metadata": {},
   "outputs": [],
   "source": [
    "data1['card1'].fillna(-999,inplace=True)\n",
    "data1['card2'].fillna(-999,inplace=True)\n",
    "data1['card3'].fillna(-999,inplace=True)\n",
    "data1['card5'].fillna(-999,inplace=True)"
   ]
  },
  {
   "cell_type": "code",
   "execution_count": 8,
   "metadata": {},
   "outputs": [],
   "source": [
    "data1['card4'].fillna(\"No Card\", inplace=True)\n",
    "types_of_card=[]\n",
    "for i in range(len(data1['card4'])):\n",
    "    if(data1.loc[i,'card4'] not in types_of_card):\n",
    "        types_of_card.append(data1.loc[i,'card4'])\n",
    "data1['card4']=data1['card4'].map({'discover':1,'mastercard':2,'visa':3,'american express':4,'No Card':-999})"
   ]
  },
  {
   "cell_type": "code",
   "execution_count": 9,
   "metadata": {},
   "outputs": [],
   "source": [
    "data1['card6'].fillna(\"No Card\",inplace=True)\n",
    "card_types=[]\n",
    "for i in range(len(data1['card6'])):\n",
    "    if(data1.loc[i,'card6'] not in card_types):\n",
    "        card_types.append(data1.loc[i,'card6'])\n",
    "data1['card6']=data1['card6'].map({'credit':1,'debit':2,'No Card':-999,'debit or credit':3,'charge card':4})"
   ]
  },
  {
   "cell_type": "code",
   "execution_count": 10,
   "metadata": {},
   "outputs": [],
   "source": [
    "data1['addr1'].fillna(-999,inplace=True)\n",
    "data1['addr2'].fillna(-999,inplace=True)\n",
    "data1['dist1'].fillna(-999,inplace=True)\n",
    "data1['dist2'].fillna(-999,inplace=True)"
   ]
  },
  {
   "cell_type": "code",
   "execution_count": 11,
   "metadata": {
    "scrolled": true
   },
   "outputs": [
    {
     "name": "stderr",
     "output_type": "stream",
     "text": [
      "c:\\python37\\lib\\site-packages\\sklearn\\utils\\deprecation.py:66: DeprecationWarning: Class Imputer is deprecated; Imputer was deprecated in version 0.20 and will be removed in 0.22. Import impute.SimpleImputer from sklearn instead.\n",
      "  warnings.warn(msg, category=DeprecationWarning)\n"
     ]
    }
   ],
   "source": [
    "from sklearn.preprocessing import Imputer\n",
    "imp=Imputer(missing_values='NaN',strategy='most_frequent',axis=0)\n",
    "imp=imp.fit(data1.loc[:,'C1':'C14'])\n",
    "data1.loc[:,'C1':'C14']=imp.transform(data1.loc[:,'C1':'C14'])"
   ]
  },
  {
   "cell_type": "code",
   "execution_count": 12,
   "metadata": {},
   "outputs": [
    {
     "name": "stderr",
     "output_type": "stream",
     "text": [
      "c:\\python37\\lib\\site-packages\\sklearn\\utils\\deprecation.py:66: DeprecationWarning: Class Imputer is deprecated; Imputer was deprecated in version 0.20 and will be removed in 0.22. Import impute.SimpleImputer from sklearn instead.\n",
      "  warnings.warn(msg, category=DeprecationWarning)\n"
     ]
    }
   ],
   "source": [
    "from sklearn.preprocessing import Imputer\n",
    "imp=Imputer(missing_values='NaN',strategy='most_frequent',axis=0)\n",
    "imp=imp.fit(data1.loc[:,'D1':'D15'])\n",
    "data1.loc[:,'D1':'D15']=imp.transform(data1.loc[:,'D1':'D15'])"
   ]
  },
  {
   "cell_type": "code",
   "execution_count": 13,
   "metadata": {},
   "outputs": [],
   "source": [
    "data1['M1'].fillna(\"No Type\",inplace=True)\n",
    "data1['M2'].fillna(\"No Type\",inplace=True)\n",
    "data1['M3'].fillna(\"No Type\",inplace=True)\n",
    "data1['M5'].fillna(\"No Type\",inplace=True)\n",
    "data1['M6'].fillna(\"No Type\",inplace=True)\n",
    "data1['M7'].fillna(\"No Type\",inplace=True)\n",
    "data1['M8'].fillna(\"No Type\",inplace=True)\n",
    "data1['M9'].fillna(\"No Type\",inplace=True)"
   ]
  },
  {
   "cell_type": "code",
   "execution_count": 14,
   "metadata": {},
   "outputs": [],
   "source": [
    "data1['M1']=data1['M1'].map({'T':1,'F':0,'No Type':-999})\n",
    "data1['M2']=data1['M2'].map({'T':1,'F':0,'No Type':-999})\n",
    "data1['M3']=data1['M3'].map({'T':1,'F':0,'No Type':-999})\n",
    "data1['M5']=data1['M5'].map({'T':1,'F':0,'No Type':-999})\n",
    "data1['M6']=data1['M6'].map({'T':1,'F':0,'No Type':-999})\n",
    "data1['M7']=data1['M7'].map({'T':1,'F':0,'No Type':-999})\n",
    "data1['M8']=data1['M8'].map({'T':1,'F':0,'No Type':-999})\n",
    "data1['M9']=data1['M9'].map({'T':1,'F':0,'No Type':-999})"
   ]
  },
  {
   "cell_type": "code",
   "execution_count": 15,
   "metadata": {},
   "outputs": [],
   "source": [
    "data1=data1.drop(['P_emaildomain'],axis=1)\n",
    "data1=data1.drop(['R_emaildomain'],axis=1)"
   ]
  },
  {
   "cell_type": "code",
   "execution_count": 16,
   "metadata": {},
   "outputs": [],
   "source": [
    "data1['M4'].fillna(\"No Type\",inplace=True)\n",
    "M4_list=[]\n",
    "for i in range(len(data1['M4'])):\n",
    "    if(data1.loc[i,'M4'] not in M4_list):\n",
    "        M4_list.append(data1.loc[i,'M4'])\n",
    "data1['M4']=data1['M4'].map({'M0':0,'M1':1,'M2':2,'No Type':-999})"
   ]
  },
  {
   "cell_type": "code",
   "execution_count": 17,
   "metadata": {},
   "outputs": [
    {
     "name": "stderr",
     "output_type": "stream",
     "text": [
      "c:\\python37\\lib\\site-packages\\sklearn\\utils\\deprecation.py:66: DeprecationWarning: Class Imputer is deprecated; Imputer was deprecated in version 0.20 and will be removed in 0.22. Import impute.SimpleImputer from sklearn instead.\n",
      "  warnings.warn(msg, category=DeprecationWarning)\n"
     ]
    }
   ],
   "source": [
    "from sklearn.preprocessing import Imputer\n",
    "imp=Imputer(missing_values='NaN',strategy='most_frequent',axis=0)\n",
    "imp=imp.fit(data1.loc[:,'V1':'V339'])\n",
    "data1.loc[:,'V1':'V339']=imp.transform(data1.loc[:,'V1':'V339'])"
   ]
  },
  {
   "cell_type": "markdown",
   "metadata": {},
   "source": [
    "## HOLIDAY CHECK - US FEDERAL HOLIDAY CALENDAR"
   ]
  },
  {
   "cell_type": "code",
   "execution_count": 18,
   "metadata": {},
   "outputs": [],
   "source": [
    "import datetime \n",
    "START_DATE = '2017-12-01'\n",
    "startdate = datetime.datetime.strptime(START_DATE, '%Y-%m-%d')\n",
    "data1['TransactionDT'] =data1['TransactionDT'].apply(lambda x: (startdate + datetime.timedelta(seconds = x)))"
   ]
  },
  {
   "cell_type": "code",
   "execution_count": 19,
   "metadata": {},
   "outputs": [],
   "source": [
    "data1['TransactionDT']=data1['TransactionDT'].astype(str)\n",
    "data1=data1.join(data1.TransactionDT.str.split(expand=True))"
   ]
  },
  {
   "cell_type": "code",
   "execution_count": 20,
   "metadata": {},
   "outputs": [],
   "source": [
    "data1.rename(columns={0:'DT',1:'Time'},inplace=True)"
   ]
  },
  {
   "cell_type": "code",
   "execution_count": 21,
   "metadata": {},
   "outputs": [
    {
     "name": "stdout",
     "output_type": "stream",
     "text": [
      "DatetimeIndex(['2017-12-25', '2018-01-01', '2018-01-15', '2018-02-19',\n",
      "               '2018-05-28'],\n",
      "              dtype='datetime64[ns]', freq=None)\n",
      "0         False\n",
      "1         False\n",
      "2         False\n",
      "3         False\n",
      "4         False\n",
      "          ...  \n",
      "590535    False\n",
      "590536    False\n",
      "590537    False\n",
      "590538    False\n",
      "590539    False\n",
      "Name: IsHoliday, Length: 590540, dtype: bool\n"
     ]
    }
   ],
   "source": [
    "from pandas.tseries.holiday import USFederalHolidayCalendar as calendar\n",
    "dr = data1['DT']\n",
    "cal = calendar()\n",
    "holidays = cal.holidays(start=dr.min(), end=dr.max())\n",
    "print(holidays)\n",
    "data1['IsHoliday'] = data1['DT'].isin(holidays)\n",
    "print(data1['IsHoliday'])"
   ]
  },
  {
   "cell_type": "code",
   "execution_count": 22,
   "metadata": {},
   "outputs": [],
   "source": [
    "data1=data1.drop(['DT'],axis=1)\n",
    "data1=data1.drop(['Time'],axis=1)"
   ]
  },
  {
   "cell_type": "markdown",
   "metadata": {},
   "source": [
    "## RESOLVING DATE ATTRIBUTE USING FASTAI - add_datepart()"
   ]
  },
  {
   "cell_type": "code",
   "execution_count": 23,
   "metadata": {},
   "outputs": [],
   "source": [
    "import fastai\n",
    "import re\n",
    "def add_datepart(df, fldname, drop=True, time=True):\n",
    "    \n",
    "    fld = df[fldname]\n",
    "    fld_dtype = fld.dtype\n",
    "    if isinstance(fld_dtype, pd.core.dtypes.dtypes.DatetimeTZDtype):\n",
    "        fld_dtype = np.datetime64\n",
    "\n",
    "    if not np.issubdtype(fld_dtype, np.datetime64):\n",
    "        df[fldname] = fld = pd.to_datetime(fld, infer_datetime_format=True)\n",
    "    targ_pre = re.sub('[Dd]ate$', '', fldname)\n",
    "    attr = ['Year', 'Month', 'Week', 'Day', 'Dayofweek', 'Dayofyear',\n",
    "            'Is_month_end', 'Is_month_start', 'Is_quarter_end', 'Is_quarter_start', 'Is_year_end', 'Is_year_start']\n",
    "    if time: attr = attr + ['Hour', 'Minute', 'Second']\n",
    "    for n in attr: df[targ_pre + n] = getattr(fld.dt, n.lower())\n",
    "    df[targ_pre + 'Elapsed'] = fld.astype(np.int64) // 10 ** 9\n",
    "    if drop: df.drop(fldname, axis=1, inplace=True)"
   ]
  },
  {
   "cell_type": "code",
   "execution_count": 24,
   "metadata": {},
   "outputs": [],
   "source": [
    "add_datepart(data1,'TransactionDT')"
   ]
  },
  {
   "cell_type": "code",
   "execution_count": 25,
   "metadata": {},
   "outputs": [],
   "source": [
    "data1=data1.drop(['TransactionDTDayofyear'],axis=1)\n",
    "data1=data1.drop(['TransactionDTIs_quarter_end'],axis=1)\n",
    "data1=data1.drop(['TransactionDTIs_quarter_start'],axis=1)\n",
    "data1=data1.drop(['TransactionDTElapsed'],axis=1) "
   ]
  },
  {
   "cell_type": "code",
   "execution_count": 26,
   "metadata": {},
   "outputs": [],
   "source": [
    "data1['TransactionDTIs_month_end']=data1['TransactionDTIs_month_end'].astype(int)\n",
    "data1['TransactionDTIs_month_start']=data1['TransactionDTIs_month_start'].astype(int)\n",
    "data1['TransactionDTIs_year_end']=data1['TransactionDTIs_year_end'].astype(int)\n",
    "data1['TransactionDTIs_year_start']=data1['TransactionDTIs_year_start'].astype(int)\n",
    "data1['IsHoliday']=data1['IsHoliday'].astype(int)"
   ]
  },
  {
   "cell_type": "code",
   "execution_count": 27,
   "metadata": {},
   "outputs": [
    {
     "name": "stdout",
     "output_type": "stream",
     "text": [
      "        TransactionID  isFraud  TransactionAmt  ProductCD  card1  card2  \\\n",
      "0             2987000        0           68.50          1  13926 -999.0   \n",
      "1             2987001        0           29.00          1   2755  404.0   \n",
      "2             2987002        0           59.00          1   4663  490.0   \n",
      "3             2987003        0           50.00          1  18132  567.0   \n",
      "4             2987004        0           50.00          2   4497  514.0   \n",
      "...               ...      ...             ...        ...    ...    ...   \n",
      "590535        3577535        0           49.00          1   6550 -999.0   \n",
      "590536        3577536        0           39.50          1  10444  225.0   \n",
      "590537        3577537        0           30.95          1  12037  595.0   \n",
      "590538        3577538        0          117.00          1   7826  481.0   \n",
      "590539        3577539        0          279.95          1  15066  170.0   \n",
      "\n",
      "        card3  card4  card5  card6  ...  TransactionDTWeek  TransactionDTDay  \\\n",
      "0       150.0      1  142.0      1  ...                 48                 2   \n",
      "1       150.0      2  102.0      1  ...                 48                 2   \n",
      "2       150.0      3  166.0      2  ...                 48                 2   \n",
      "3       150.0      2  117.0      2  ...                 48                 2   \n",
      "4       150.0      2  102.0      1  ...                 48                 2   \n",
      "...       ...    ...    ...    ...  ...                ...               ...   \n",
      "590535  150.0      3  226.0      2  ...                 22                 1   \n",
      "590536  150.0      2  224.0      2  ...                 22                 1   \n",
      "590537  150.0      2  224.0      2  ...                 22                 1   \n",
      "590538  150.0      2  224.0      2  ...                 22                 1   \n",
      "590539  150.0      2  102.0      1  ...                 22                 1   \n",
      "\n",
      "        TransactionDTDayofweek  TransactionDTIs_month_end  \\\n",
      "0                            5                          0   \n",
      "1                            5                          0   \n",
      "2                            5                          0   \n",
      "3                            5                          0   \n",
      "4                            5                          0   \n",
      "...                        ...                        ...   \n",
      "590535                       4                          0   \n",
      "590536                       4                          0   \n",
      "590537                       4                          0   \n",
      "590538                       4                          0   \n",
      "590539                       4                          0   \n",
      "\n",
      "        TransactionDTIs_month_start  TransactionDTIs_year_end  \\\n",
      "0                                 0                         0   \n",
      "1                                 0                         0   \n",
      "2                                 0                         0   \n",
      "3                                 0                         0   \n",
      "4                                 0                         0   \n",
      "...                             ...                       ...   \n",
      "590535                            1                         0   \n",
      "590536                            1                         0   \n",
      "590537                            1                         0   \n",
      "590538                            1                         0   \n",
      "590539                            1                         0   \n",
      "\n",
      "        TransactionDTIs_year_start  TransactionDTHour  TransactionDTMinute  \\\n",
      "0                                0                  0                    0   \n",
      "1                                0                  0                    0   \n",
      "2                                0                  0                    1   \n",
      "3                                0                  0                    1   \n",
      "4                                0                  0                    1   \n",
      "...                            ...                ...                  ...   \n",
      "590535                           0                 23                   57   \n",
      "590536                           0                 23                   57   \n",
      "590537                           0                 23                   57   \n",
      "590538                           0                 23                   58   \n",
      "590539                           0                 23                   58   \n",
      "\n",
      "        TransactionDTSecond  \n",
      "0                         0  \n",
      "1                         1  \n",
      "2                         9  \n",
      "3                        39  \n",
      "4                        46  \n",
      "...                     ...  \n",
      "590535                   27  \n",
      "590536                   29  \n",
      "590537                   59  \n",
      "590538                    8  \n",
      "590539                   51  \n",
      "\n",
      "[590540 rows x 404 columns]\n"
     ]
    }
   ],
   "source": [
    "print(data1)"
   ]
  },
  {
   "cell_type": "markdown",
   "metadata": {},
   "source": [
    "## READING DATA - TRAIN_IDENTITY"
   ]
  },
  {
   "cell_type": "code",
   "execution_count": 28,
   "metadata": {},
   "outputs": [],
   "source": [
    "df=pd.read_csv(r\"D:\\Documents\\ML\\Kaggle\\IEEE CIS\\train_identity.csv\")"
   ]
  },
  {
   "cell_type": "code",
   "execution_count": 29,
   "metadata": {},
   "outputs": [],
   "source": [
    "df=df.drop(['id_01'],axis=1)\n",
    "df=df.drop(['id_02'],axis=1)\n",
    "df=df.drop(['id_03'],axis=1)\n",
    "df=df.drop(['id_04'],axis=1)\n",
    "df=df.drop(['id_05'],axis=1)\n",
    "df=df.drop(['id_06'],axis=1)\n",
    "df=df.drop(['id_07'],axis=1)\n",
    "df=df.drop(['id_08'],axis=1)\n",
    "df=df.drop(['id_09'],axis=1)\n",
    "df=df.drop(['id_10'],axis=1)\n",
    "df=df.drop(['id_11'],axis=1)\n",
    "df=df.drop(['DeviceInfo'],axis=1)"
   ]
  },
  {
   "cell_type": "markdown",
   "metadata": {},
   "source": [
    "## ENCODING CATEGORICAL AND MISSING DATA"
   ]
  },
  {
   "cell_type": "code",
   "execution_count": 65,
   "metadata": {},
   "outputs": [
    {
     "name": "stdout",
     "output_type": "stream",
     "text": [
      "NotFound    85.296014\n",
      "Found       14.703986\n",
      "Name: id_12, dtype: float64\n"
     ]
    }
   ],
   "source": [
    "df['id_12'].fillna(\"None\",inplace=True)\n",
    "print(df['id_12'].value_counts(normalize=True,dropna=False)*100)"
   ]
  },
  {
   "cell_type": "code",
   "execution_count": 31,
   "metadata": {},
   "outputs": [
    {
     "name": "stdout",
     "output_type": "stream",
     "text": [
      " 52.0     58099\n",
      " 49.0     26365\n",
      "-999.0    16913\n",
      " 64.0     14429\n",
      " 33.0     10048\n",
      " 27.0      3666\n",
      " 20.0      2878\n",
      " 14.0      2499\n",
      " 63.0      1468\n",
      " 19.0      1147\n",
      " 25.0      1066\n",
      " 43.0       842\n",
      " 62.0       813\n",
      " 18.0       688\n",
      " 41.0       654\n",
      " 55.0       523\n",
      " 11.0       373\n",
      " 15.0       372\n",
      " 24.0       318\n",
      " 35.0       317\n",
      " 51.0       196\n",
      " 61.0       108\n",
      " 44.0        85\n",
      " 54.0        67\n",
      " 28.0        59\n",
      " 39.0        34\n",
      " 31.0        29\n",
      " 45.0        26\n",
      " 38.0        22\n",
      " 13.0        21\n",
      " 58.0        17\n",
      " 36.0        15\n",
      " 32.0        10\n",
      " 48.0        10\n",
      " 56.0         9\n",
      " 30.0         7\n",
      " 22.0         5\n",
      " 53.0         4\n",
      " 46.0         3\n",
      " 17.0         3\n",
      " 60.0         3\n",
      " 57.0         3\n",
      " 21.0         3\n",
      " 47.0         3\n",
      " 26.0         2\n",
      " 12.0         2\n",
      " 50.0         1\n",
      " 34.0         1\n",
      " 23.0         1\n",
      " 59.0         1\n",
      " 10.0         1\n",
      " 42.0         1\n",
      " 40.0         1\n",
      " 29.0         1\n",
      " 37.0         1\n",
      "Name: id_13, dtype: int64\n"
     ]
    }
   ],
   "source": [
    "df['id_13'].fillna(-999,inplace=True)\n",
    "print(df['id_13'].value_counts())"
   ]
  },
  {
   "cell_type": "code",
   "execution_count": 32,
   "metadata": {},
   "outputs": [
    {
     "name": "stdout",
     "output_type": "stream",
     "text": [
      "-999.0    64189\n",
      "-300.0    44121\n",
      "-360.0    16661\n",
      "-480.0    12891\n",
      "-420.0     4542\n",
      "-600.0      498\n",
      " 60.0       369\n",
      " 0.0        192\n",
      "-240.0      159\n",
      "-180.0      126\n",
      "-540.0      111\n",
      " 480.0       80\n",
      " 540.0       64\n",
      " 600.0       62\n",
      " 120.0       41\n",
      " 180.0       37\n",
      " 420.0       19\n",
      " 330.0       17\n",
      " 270.0       15\n",
      " 240.0       13\n",
      " 300.0       12\n",
      " 720.0        9\n",
      "-660.0        2\n",
      "-120.0        1\n",
      "-210.0        1\n",
      " 360.0        1\n",
      "Name: id_14, dtype: int64\n"
     ]
    }
   ],
   "source": [
    "df['id_14'].fillna(-999,inplace=True)\n",
    "print(df['id_14'].value_counts())"
   ]
  },
  {
   "cell_type": "code",
   "execution_count": 33,
   "metadata": {},
   "outputs": [
    {
     "name": "stdout",
     "output_type": "stream",
     "text": [
      "Found      46.957354\n",
      "New        42.716993\n",
      "Unknown     8.073742\n",
      "NaN         2.251912\n",
      "Name: id_15, dtype: float64\n"
     ]
    }
   ],
   "source": [
    "print(df['id_15'].value_counts(normalize=True,dropna=False)*100)\n",
    "df['id_15'].fillna(\"None\",inplace=True)\n",
    "df['id_15'] = df['id_15'].map({'Unknown':0, 'New':2, 'Found':1,'None':-999})"
   ]
  },
  {
   "cell_type": "code",
   "execution_count": 34,
   "metadata": {},
   "outputs": [
    {
     "name": "stdout",
     "output_type": "stream",
     "text": [
      "Found       45.983929\n",
      "NotFound    43.690418\n",
      "NaN         10.325654\n",
      "Name: id_16, dtype: float64\n"
     ]
    }
   ],
   "source": [
    "print(df['id_16'].value_counts(normalize=True,dropna=False)*100)\n",
    "df['id_16'].fillna(\"None\",inplace=True)\n",
    "df['id_16'] = df['id_16'].map({'NotFound':0, 'Found':1,'None':-999})"
   ]
  },
  {
   "cell_type": "code",
   "execution_count": 35,
   "metadata": {},
   "outputs": [
    {
     "name": "stdout",
     "output_type": "stream",
     "text": [
      "166.0    54.516650\n",
      "225.0    39.497202\n",
      "NaN       3.372321\n",
      "102.0     0.477699\n",
      "159.0     0.244050\n",
      "           ...    \n",
      "211.0     0.000693\n",
      "173.0     0.000693\n",
      "219.0     0.000693\n",
      "175.0     0.000693\n",
      "139.0     0.000693\n",
      "Name: id_17, Length: 105, dtype: float64\n"
     ]
    }
   ],
   "source": [
    "print(df['id_17'].value_counts(normalize=True,dropna=False)*100)\n",
    "df['id_17'].fillna(-999,inplace=True)"
   ]
  },
  {
   "cell_type": "code",
   "execution_count": 36,
   "metadata": {},
   "outputs": [
    {
     "name": "stdout",
     "output_type": "stream",
     "text": [
      "NaN     68.722137\n",
      "15.0    17.672100\n",
      "13.0     9.317563\n",
      "12.0     3.228110\n",
      "18.0     0.450660\n",
      "20.0     0.235036\n",
      "17.0     0.161544\n",
      "26.0     0.061706\n",
      "21.0     0.054079\n",
      "24.0     0.036053\n",
      "11.0     0.024960\n",
      "27.0     0.022186\n",
      "29.0     0.006240\n",
      "23.0     0.002773\n",
      "14.0     0.002080\n",
      "16.0     0.000693\n",
      "10.0     0.000693\n",
      "25.0     0.000693\n",
      "28.0     0.000693\n",
      "Name: id_18, dtype: float64\n"
     ]
    }
   ],
   "source": [
    "print(df['id_18'].value_counts(normalize=True,dropna=False)*100)\n",
    "df['id_18'].fillna(-999,inplace=True)"
   ]
  },
  {
   "cell_type": "code",
   "execution_count": 37,
   "metadata": {},
   "outputs": [],
   "source": [
    "df['id_19'].fillna(-999,inplace=True)"
   ]
  },
  {
   "cell_type": "code",
   "execution_count": 38,
   "metadata": {},
   "outputs": [],
   "source": [
    "df['id_20'].fillna(-999,inplace=True)"
   ]
  },
  {
   "cell_type": "code",
   "execution_count": 39,
   "metadata": {},
   "outputs": [],
   "source": [
    "df=df.drop(['id_21'],axis=1)\n",
    "df=df.drop(['id_22'],axis=1)\n",
    "df=df.drop(['id_23'],axis=1)\n",
    "df=df.drop(['id_24'],axis=1)\n",
    "df=df.drop(['id_25'],axis=1)\n",
    "df=df.drop(['id_26'],axis=1)\n",
    "df=df.drop(['id_27'],axis=1)"
   ]
  },
  {
   "cell_type": "code",
   "execution_count": 40,
   "metadata": {},
   "outputs": [
    {
     "name": "stdout",
     "output_type": "stream",
     "text": [
      "Found    52.853369\n",
      "New      44.889866\n",
      "NaN       2.256765\n",
      "Name: id_28, dtype: float64\n"
     ]
    }
   ],
   "source": [
    "print(df['id_28'].value_counts(normalize=True,dropna=False)*100)\n",
    "df['id_28'].fillna(\"None\",inplace=True)\n",
    "df['id_28'] = df['id_28'].map({'New':2, 'Found':1,'None':-999})"
   ]
  },
  {
   "cell_type": "code",
   "execution_count": 41,
   "metadata": {},
   "outputs": [
    {
     "name": "stdout",
     "output_type": "stream",
     "text": [
      "Found       51.947890\n",
      "NotFound    45.795345\n",
      "NaN          2.256765\n",
      "Name: id_29, dtype: float64\n"
     ]
    }
   ],
   "source": [
    "print(df['id_29'].value_counts(normalize=True,dropna=False)*100)\n",
    "df['id_29'].fillna(\"None\",inplace=True)\n",
    "df['id_29'] = df['id_29'].map({'Found':1, 'NotFound':0,'None':-999})"
   ]
  },
  {
   "cell_type": "code",
   "execution_count": 42,
   "metadata": {},
   "outputs": [
    {
     "name": "stdout",
     "output_type": "stream",
     "text": [
      "NaN                 46.222432\n",
      "Windows 10          14.667240\n",
      "Windows 7            9.089459\n",
      "iOS 11.2.1           2.580547\n",
      "iOS 11.1.2           2.564600\n",
      "                      ...    \n",
      "func                 0.006933\n",
      "iOS 11.4.0           0.003467\n",
      "Mac OS X 10_13_5     0.002773\n",
      "Windows              0.002080\n",
      "iOS 11.4.1           0.000693\n",
      "Name: id_30, Length: 76, dtype: float64\n"
     ]
    }
   ],
   "source": [
    "print(df['id_30'].value_counts(normalize=True,dropna=False)*100)\n",
    "df['id_30'].fillna(\"None\",inplace=True)\n",
    "ls30=[]\n",
    "for i in range(len(df['id_30'])):\n",
    "    if df.loc[i,'id_30'] not in ls30:\n",
    "        ls30.append(df.loc[i,'id_30'])\n",
    "df['id_30']=df['id_30'].map({'Android 7.0':1,'iOS 11.1.2':2,'None':-999,'Mac OS X 10_11_6':3,'Windows 10':4,'Android':5,'Linux':6,'iOS 11.0.3':7,'Mac OS X 10_7_5':8,'Mac OS X 10_12_6':9,'Mac OS X 10_13_1':10,'iOS 11.1.0':11,'Mac OS X 10_9_5':12, 'Windows 7':13,'Windows 8.1':14,'Mac':15,'iOS 10.3.3':16,'Mac OS X 10.12':17,'Mac OS X 10_10_5':18,'Mac OS X 10_11_5':19,'iOS 9.3.5':20,'Android 5.1.1':21,'Android 7.1.1':22,'Android 6.0':23,'iOS 10.3.1':24,'Mac OS X 10.9':25,'iOS 11.1.1':26,'Windows Vista':27,'iOS 10.3.2':28,'iOS 11.0.2':29,'Mac OS X 10.11':30,'Android 8.0.0':31,'iOS 10.2.0':32,'iOS 10.2.1':33,'iOS 11.0.0':34,'Mac OS X 10.10':35,'Mac OS X 10_12_3':36,'Mac OS X 10_12':37,'Android 6.0.1':38,'iOS':39,'Mac OS X 10.13':40,'Mac OS X 10_12_5':41,'Mac OS X 10_8_5':42,'iOS 11.0.1':43,'iOS 10.0.2':44,'Android 5.0.2':45,'Windows XP':46,'iOS 11.2.0':47,'Mac OS X 10.6':48,'Windows 8':49,'Mac OS X 10_6_8':50,'Mac OS X 10_11_4':51,'Mac OS X 10_12_1':52,'iOS 10.1.1':53,'Mac OS X 10_11_3':54,'Mac OS X 10_12_4':55,'Mac OS X 10_13_2':56,'Android 4.4.2':57,'Mac OS X 10_12_2':58,'Android 5.0':59,'func':60,'Android 7.1.2':61,'Android 8.1.0':62,'other':63,'Mac OS X 10_13_3':64,'iOS 11.2.1':65,'iOS 11.2.5':66,'Windows':67,'iOS 11.2.2':67,'iOS 11.3.0':68,'iOS 11.2.6':69,'Mac OS X 10_13_4':70,'Mac OS X 10_13_5':71,'iOS 11.4.0':72,'iOS 11.3.1':73,'iOS 11.4.1':74})"
   ]
  },
  {
   "cell_type": "code",
   "execution_count": 43,
   "metadata": {},
   "outputs": [
    {
     "name": "stdout",
     "output_type": "stream",
     "text": [
      "chrome 63.0              15.253097\n",
      "mobile safari 11.0        9.306469\n",
      "mobile safari generic     7.955184\n",
      "ie 11.0 for desktop       6.260703\n",
      "safari generic            5.681779\n",
      "                           ...    \n",
      "Nokia/Lumia               0.000693\n",
      "Samsung/SCH               0.000693\n",
      "LG/K-200                  0.000693\n",
      "cyberfox                  0.000693\n",
      "iron                      0.000693\n",
      "Name: id_31, Length: 131, dtype: float64\n"
     ]
    }
   ],
   "source": [
    "print(df['id_31'].value_counts(normalize=True,dropna=False)*100)\n",
    "df['id_31'].fillna(\"None\",inplace=True)\n",
    "ls31=[]\n",
    "for i in range(len(df['id_31'])):\n",
    "    if df.loc[i,'id_31'] not in ls31:\n",
    "        ls31.append(df.loc[i,'id_31'])\n",
    "df['id_31']=df['id_31'].map({'samsung browser 6.2':1,'mobile safari 11.0':2, 'chrome 62.0':3, 'None':4, 'chrome 62.0 for android':5, 'edge 15.0':6, 'mobile safari generic':7, 'chrome 49.0':8, 'chrome 61.0':9, 'edge 16.0':10, 'safari generic':11, 'edge 14.0':12, 'chrome 56.0 for android':13, 'firefox 57.0':14, 'chrome 54.0 for android':15, 'mobile safari uiwebview':16, 'chrome':17, 'chrome 62.0 for ios':18, 'firefox':19, 'chrome 60.0 for android':20, 'mobile safari 10.0':21, 'chrome 61.0 for android':22, 'ie 11.0 for desktop':23, 'ie 11.0 for tablet':24, 'mobile safari 9.0':25, 'chrome generic':26, 'other':27, 'chrome 59.0 for android':28, 'firefox 56.0':29, 'android webview 4.0':30, 'chrome 55.0':31, 'opera 49.0':32, 'ie':33, 'chrome 55.0 for android':34, 'firefox 52.0':35, 'chrome 57.0 for android':36, 'chrome 56.0':37, 'chrome 46.0 for android':38, 'chrome 58.0':39, 'firefox 48.0':40, 'chrome 59.0':41, 'samsung browser 4.0':42, 'edge 13.0':43, 'chrome 53.0 for android':44, 'chrome 58.0 for android':45, 'chrome 60.0':46, 'mobile safari 8.0':47, 'firefox generic':48, 'Generic/Android 7.0':49, 'mobile':50, 'Samsung/SM-G532M':51, 'chrome 50.0 for android':52, 'chrome 51.0 for android':53, 'chrome 63.0':54, 'chrome 52.0 for android':55, 'chrome 51.0':56, 'firefox 55.0':57, 'edge':58, 'opera':59, 'chrome generic for android':60, 'aol':61, 'samsung browser 5.4':62, 'Samsung/SCH':63, 'silk':64, 'chrome 57.0':65, 'firefox 47.0':66, 'chrome 63.0 for android':67, 'Samsung/SM-G531H':68, 'chrome 43.0 for android':69, 'waterfox':70, 'Nokia/Lumia':71, 'chrome 63.0 for ios':72, 'puffin':73, 'Microsoft/Windows':74, 'cyberfox':75, 'Generic/Android':76, 'samsung':77, 'opera generic':78, 'chrome 49.0 for android':79, 'ZTE/Blade':80, 'safari':81, 'android browser 4.0':82, 'samsung browser 5.2':83, 'palemoon':84, 'maxthon':85, 'line':86, 'LG/K-200':87, 'iron':88, 'BLU/Dash':89, 'seamonkey':90, 'firefox 58.0':91, 'chrome 64.0 for android':92, 'chrome 64.0':93, 'firefox 59.0':94, 'chrome 64.0 for ios':95, 'M4Tel/M4':96, 'comodo':97, 'Lanix/Ilium':98, 'samsung browser generic':99, 'chromium':100, 'opera 51.0':101, 'Inco/Minion':102, 'samsung browser 7.0':103, 'Mozilla/Firefox':103, 'samsung browser 4.2':104, 'samsung browser 6.4':105, 'chrome 65.0':106, 'chrome 65.0 for android':107, 'chrome 65.0 for ios':108, 'Cherry':108, 'icedragon':109, 'android':110, 'edge 17.0':111, 'chrome 66.0':112, 'chrome 66.0 for android':113, 'safari 11.0':114, 'safari 9.0':115, 'safari 10.0':116, 'google':117, 'chrome 66.0 for ios':118, 'google search application 48.0':119, 'opera 52.0':120, 'firefox 60.0':121, 'opera 53.0':123, 'samsung browser 3.3':124, 'google search application 49.0':125, 'facebook':126, 'firefox mobile 61.0':127, 'chrome 67.0':128, 'chrome 69.0':129, 'chrome 67.0 for android':130})"
   ]
  },
  {
   "cell_type": "code",
   "execution_count": 44,
   "metadata": {},
   "outputs": [
    {
     "name": "stdout",
     "output_type": "stream",
     "text": [
      "NaN     46.207872\n",
      "24.0    36.795324\n",
      "32.0    16.936485\n",
      "16.0     0.056159\n",
      "0.0      0.004160\n",
      "Name: id_32, dtype: float64\n"
     ]
    }
   ],
   "source": [
    "print(df['id_32'].value_counts(normalize=True,dropna=False)*100)\n",
    "df['id_32'].fillna(-999,inplace=True)"
   ]
  },
  {
   "cell_type": "code",
   "execution_count": 45,
   "metadata": {},
   "outputs": [],
   "source": [
    "df=df.drop(['id_33'],axis=1)"
   ]
  },
  {
   "cell_type": "code",
   "execution_count": 46,
   "metadata": {},
   "outputs": [
    {
     "name": "stdout",
     "output_type": "stream",
     "text": [
      "NaN                46.056034\n",
      "match_status:2     41.606983\n",
      "match_status:1     12.047174\n",
      "match_status:0      0.287729\n",
      "match_status:-1     0.002080\n",
      "Name: id_34, dtype: float64\n"
     ]
    }
   ],
   "source": [
    "print(df['id_34'].value_counts(normalize=True,dropna=False)*100)\n",
    "df['id_34'].fillna(-999,inplace=True)\n",
    "df['id_34']=df['id_34'].astype(str)\n",
    "df['id_34']=df['id_34'].map({'match_status:0':0,'match_status:1':1,'match_status:2':2,'match_status:-1':-1})"
   ]
  },
  {
   "cell_type": "code",
   "execution_count": 47,
   "metadata": {},
   "outputs": [
    {
     "name": "stdout",
     "output_type": "stream",
     "text": [
      "T      53.950206\n",
      "F      43.797883\n",
      "NaN     2.251912\n",
      "Name: id_35, dtype: float64\n"
     ]
    }
   ],
   "source": [
    "print(df['id_35'].value_counts(normalize=True,dropna=False)*100)\n",
    "df['id_35'].fillna(\"None\",inplace=True)\n",
    "df['id_35'] = df['id_35'].map({'F':0, 'T':1,'None':-999})"
   ]
  },
  {
   "cell_type": "code",
   "execution_count": 48,
   "metadata": {},
   "outputs": [
    {
     "name": "stdout",
     "output_type": "stream",
     "text": [
      "F      92.950989\n",
      "T       4.797099\n",
      "NaN     2.251912\n",
      "Name: id_36, dtype: float64\n"
     ]
    }
   ],
   "source": [
    "print(df['id_36'].value_counts(normalize=True,dropna=False)*100)\n",
    "df['id_36'].fillna(\"None\",inplace=True)\n",
    "df['id_36'] = df['id_36'].map({'F':0, 'T':1,'None':-999})"
   ]
  },
  {
   "cell_type": "code",
   "execution_count": 49,
   "metadata": {},
   "outputs": [
    {
     "name": "stdout",
     "output_type": "stream",
     "text": [
      "T      76.578869\n",
      "F      21.169219\n",
      "NaN     2.251912\n",
      "Name: id_37, dtype: float64\n"
     ]
    }
   ],
   "source": [
    "print(df['id_37'].value_counts(normalize=True,dropna=False)*100)\n",
    "df['id_37'].fillna(\"None\",inplace=True)\n",
    "df['id_37'] = df['id_37'].map({'F':0, 'T':1,'None':-999})"
   ]
  },
  {
   "cell_type": "code",
   "execution_count": 50,
   "metadata": {},
   "outputs": [
    {
     "name": "stdout",
     "output_type": "stream",
     "text": [
      "F      51.251794\n",
      "T      46.496294\n",
      "NaN     2.251912\n",
      "Name: id_38, dtype: float64\n"
     ]
    }
   ],
   "source": [
    "print(df['id_38'].value_counts(normalize=True,dropna=False)*100)\n",
    "df['id_38'].fillna(\"None\",inplace=True)\n",
    "df['id_38'] = df['id_38'].map({'F':0, 'T':1,'None':-999})"
   ]
  },
  {
   "cell_type": "code",
   "execution_count": 51,
   "metadata": {},
   "outputs": [
    {
     "name": "stdout",
     "output_type": "stream",
     "text": [
      "desktop    59.046820\n",
      "mobile     38.579937\n",
      "NaN         2.373243\n",
      "Name: DeviceType, dtype: float64\n"
     ]
    }
   ],
   "source": [
    "print(df['DeviceType'].value_counts(normalize=True,dropna=False)*100)\n",
    "df['DeviceType'].fillna(-999,inplace=True)\n",
    "df['DeviceType']=df['DeviceType'].astype(str)\n",
    "df['DeviceType']=df['DeviceType'].map({'desktop':1,'mobile':2})"
   ]
  },
  {
   "cell_type": "code",
   "execution_count": 52,
   "metadata": {},
   "outputs": [
    {
     "name": "stdout",
     "output_type": "stream",
     "text": [
      "        TransactionID     id_12  id_13  id_14  id_15  id_16  id_17  id_18  \\\n",
      "0             2987004  NotFound -999.0 -480.0      2      0  166.0 -999.0   \n",
      "1             2987008  NotFound   49.0 -300.0      2      0  166.0 -999.0   \n",
      "2             2987010  NotFound   52.0 -999.0      1      1  121.0 -999.0   \n",
      "3             2987011  NotFound   52.0 -999.0      2      0  225.0 -999.0   \n",
      "4             2987016  NotFound -999.0 -300.0      1      1  166.0   15.0   \n",
      "...               ...       ...    ...    ...    ...    ...    ...    ...   \n",
      "144228        3577521  NotFound   27.0 -999.0      1      1  225.0 -999.0   \n",
      "144229        3577526  NotFound   27.0 -300.0      2      0  166.0   15.0   \n",
      "144230        3577529  NotFound   27.0 -999.0      2      0  225.0   27.0   \n",
      "144231        3577531  NotFound   27.0 -300.0      1      1  166.0   15.0   \n",
      "144232        3577534  NotFound   27.0 -999.0      2      0  225.0   15.0   \n",
      "\n",
      "        id_19  id_20  ...  id_29  id_30  id_31  id_32  id_34  id_35  id_36  \\\n",
      "0       542.0  144.0  ...      0      1      1   32.0    2.0      1      0   \n",
      "1       621.0  500.0  ...      0      2      2   32.0    1.0      1      0   \n",
      "2       410.0  142.0  ...      1   -999      3 -999.0    NaN      0      0   \n",
      "3       176.0  507.0  ...      0   -999      3 -999.0    NaN      0      0   \n",
      "4       529.0  575.0  ...      1      3      3   24.0    2.0      1      0   \n",
      "...       ...    ...  ...    ...    ...    ...    ...    ...    ...    ...   \n",
      "144228  427.0  139.0  ...      1   -999    113 -999.0    NaN      0      0   \n",
      "144229  352.0  333.0  ...      0     22     34   32.0    2.0      1      0   \n",
      "144230  567.0  411.0  ...      0   -999    107 -999.0    NaN      0      0   \n",
      "144231  352.0  368.0  ...      1     12    112   24.0    2.0      1      0   \n",
      "144232  417.0  595.0  ...      0   -999    113 -999.0    NaN      0      0   \n",
      "\n",
      "        id_37  id_38  DeviceType  \n",
      "0           1      1         2.0  \n",
      "1           0      1         2.0  \n",
      "2           1      1         1.0  \n",
      "3           1      1         1.0  \n",
      "4           1      1         1.0  \n",
      "...       ...    ...         ...  \n",
      "144228      1      0         2.0  \n",
      "144229      1      0         2.0  \n",
      "144230      1      0         2.0  \n",
      "144231      1      0         1.0  \n",
      "144232      1      0         2.0  \n",
      "\n",
      "[144233 rows x 21 columns]\n"
     ]
    }
   ],
   "source": [
    "print(df)"
   ]
  },
  {
   "cell_type": "markdown",
   "metadata": {},
   "source": [
    "### MERGING THE DATA"
   ]
  },
  {
   "cell_type": "code",
   "execution_count": 53,
   "metadata": {},
   "outputs": [],
   "source": [
    "dataset=pd.merge(data1,df,how=\"outer\",on=\"TransactionID\")"
   ]
  },
  {
   "cell_type": "code",
   "execution_count": 54,
   "metadata": {
    "scrolled": true
   },
   "outputs": [
    {
     "name": "stdout",
     "output_type": "stream",
     "text": [
      "       TransactionID        isFraud  TransactionAmt      ProductCD  \\\n",
      "count   5.905400e+05  590540.000000   590540.000000  590540.000000   \n",
      "mean    3.282270e+06       0.034990      135.027176       1.602401   \n",
      "std     1.704744e+05       0.183755      239.162522       1.164376   \n",
      "min     2.987000e+06       0.000000        0.251000       1.000000   \n",
      "25%     3.134635e+06       0.000000       43.321000       1.000000   \n",
      "50%     3.282270e+06       0.000000       68.769000       1.000000   \n",
      "75%     3.429904e+06       0.000000      125.000000       2.000000   \n",
      "max     3.577539e+06       1.000000    31937.391000       5.000000   \n",
      "\n",
      "               card1          card2          card3          card4  \\\n",
      "count  590540.000000  590540.000000  590540.000000  590540.000000   \n",
      "mean     9898.734658     341.959466     150.141474      -0.004614   \n",
      "std      4901.170153     228.343048      60.307775      51.696093   \n",
      "min      1000.000000    -999.000000    -999.000000    -999.000000   \n",
      "25%      6019.000000     204.000000     150.000000       2.000000   \n",
      "50%      9678.000000     360.000000     150.000000       3.000000   \n",
      "75%     14184.000000     512.000000     150.000000       3.000000   \n",
      "max     18396.000000     600.000000     231.000000       4.000000   \n",
      "\n",
      "               card5          card6  ...          id_29          id_30  \\\n",
      "count  590540.000000  590540.000000  ...  144233.000000  144233.000000   \n",
      "mean      190.636858      -0.915123  ...     -22.025604    -450.999237   \n",
      "std       109.406317      51.549580  ...     148.452293     508.322618   \n",
      "min      -999.000000    -999.000000  ...    -999.000000    -999.000000   \n",
      "25%       166.000000       1.000000  ...       0.000000    -999.000000   \n",
      "50%       226.000000       2.000000  ...       1.000000       2.000000   \n",
      "75%       226.000000       2.000000  ...       1.000000      13.000000   \n",
      "max       237.000000       4.000000  ...       1.000000      74.000000   \n",
      "\n",
      "               id_31          id_32         id_34          id_35  \\\n",
      "count  144233.000000  144233.000000  77805.000000  144233.000000   \n",
      "mean       41.217391    -447.357103      1.765889     -21.957097   \n",
      "std        38.124188     511.286587      0.436124     148.299294   \n",
      "min         1.000000    -999.000000     -1.000000    -999.000000   \n",
      "25%         7.000000    -999.000000      2.000000       0.000000   \n",
      "50%        23.000000      24.000000      2.000000       1.000000   \n",
      "75%        67.000000      24.000000      2.000000       1.000000   \n",
      "max       130.000000      32.000000      2.000000       1.000000   \n",
      "\n",
      "               id_36          id_37          id_38     DeviceType  \n",
      "count  144233.000000  144233.000000  144233.000000  140810.000000  \n",
      "mean      -22.448628     -21.730811     -22.031636       1.395178  \n",
      "std       148.224027     148.333384     148.287987       0.488891  \n",
      "min      -999.000000    -999.000000    -999.000000       1.000000  \n",
      "25%         0.000000       1.000000       0.000000       1.000000  \n",
      "50%         0.000000       1.000000       0.000000       1.000000  \n",
      "75%         0.000000       1.000000       1.000000       2.000000  \n",
      "max         1.000000       1.000000       1.000000       2.000000  \n",
      "\n",
      "[8 rows x 423 columns]\n"
     ]
    }
   ],
   "source": [
    "print(dataset.describe())"
   ]
  },
  {
   "cell_type": "code",
   "execution_count": 57,
   "metadata": {},
   "outputs": [
    {
     "name": "stdout",
     "output_type": "stream",
     "text": [
      "(590540, 424)\n"
     ]
    }
   ],
   "source": [
    "print(dataset.shape)"
   ]
  },
  {
   "cell_type": "code",
   "execution_count": 67,
   "metadata": {},
   "outputs": [
    {
     "name": "stdout",
     "output_type": "stream",
     "text": [
      "NaN         75.576083\n",
      "NotFound    20.832628\n",
      "Found        3.591289\n",
      "Name: id_12, dtype: float64\n"
     ]
    }
   ],
   "source": [
    "print(dataset['id_12'].value_counts(normalize=True,dropna=False)*100)\n",
    "dataset['id_12'].fillna(\"None\",inplace=True)\n",
    "dataset['id_12']=dataset['id_12'].map({\"None\":-999,\"NotFound\":0,\"Found\":1})"
   ]
  },
  {
   "cell_type": "markdown",
   "metadata": {},
   "source": [
    "## TRAINING XGBOOST MODEL"
   ]
  },
  {
   "cell_type": "code",
   "execution_count": 68,
   "metadata": {},
   "outputs": [],
   "source": [
    "X=dataset\n",
    "Y=dataset['isFraud']\n",
    "X=X.drop(['isFraud'],axis=1)"
   ]
  },
  {
   "cell_type": "code",
   "execution_count": 69,
   "metadata": {},
   "outputs": [],
   "source": [
    "from sklearn.model_selection import train_test_split\n",
    "X_train,X_test,Y_train,Y_test=train_test_split(X,Y,test_size=0.3)"
   ]
  },
  {
   "cell_type": "code",
   "execution_count": 70,
   "metadata": {},
   "outputs": [
    {
     "data": {
      "text/plain": [
       "XGBClassifier(base_score=0.5, booster='gbtree', colsample_bylevel=1,\n",
       "              colsample_bynode=1, colsample_bytree=1, gamma=0,\n",
       "              learning_rate=0.1, max_delta_step=0, max_depth=3,\n",
       "              min_child_weight=1, missing=None, n_estimators=100, n_jobs=1,\n",
       "              nthread=None, objective='binary:logistic', random_state=0,\n",
       "              reg_alpha=0, reg_lambda=1, scale_pos_weight=1, seed=None,\n",
       "              silent=None, subsample=1, verbosity=1)"
      ]
     },
     "execution_count": 70,
     "metadata": {},
     "output_type": "execute_result"
    }
   ],
   "source": [
    "from xgboost import XGBClassifier\n",
    "classifier=XGBClassifier()\n",
    "classifier.fit(X_train,Y_train)"
   ]
  },
  {
   "cell_type": "code",
   "execution_count": 71,
   "metadata": {},
   "outputs": [],
   "source": [
    "y_pred=classifier.predict(X_test)"
   ]
  },
  {
   "cell_type": "markdown",
   "metadata": {},
   "source": [
    "## MEASURING ACCURACY"
   ]
  },
  {
   "cell_type": "code",
   "execution_count": 73,
   "metadata": {},
   "outputs": [],
   "source": [
    "from sklearn.metrics import confusion_matrix\n",
    "cm=confusion_matrix(Y_test,y_pred)"
   ]
  },
  {
   "cell_type": "code",
   "execution_count": 74,
   "metadata": {},
   "outputs": [
    {
     "data": {
      "text/plain": [
       "array([[170717,    235],\n",
       "       [  4507,   1703]], dtype=int64)"
      ]
     },
     "execution_count": 74,
     "metadata": {},
     "output_type": "execute_result"
    }
   ],
   "source": [
    "cm"
   ]
  },
  {
   "cell_type": "code",
   "execution_count": 75,
   "metadata": {},
   "outputs": [],
   "source": [
    "from sklearn.metrics import accuracy_score\n",
    "a=accuracy_score(Y_test,y_pred)"
   ]
  },
  {
   "cell_type": "code",
   "execution_count": 76,
   "metadata": {},
   "outputs": [
    {
     "name": "stdout",
     "output_type": "stream",
     "text": [
      "97.32335376660909\n"
     ]
    }
   ],
   "source": [
    "print(a*100)"
   ]
  },
  {
   "cell_type": "markdown",
   "metadata": {},
   "source": [
    "## TESTING DATA"
   ]
  },
  {
   "cell_type": "code",
   "execution_count": 92,
   "metadata": {},
   "outputs": [],
   "source": [
    "data2=pd.read_csv(r\"D:\\Documents\\ML\\Kaggle\\IEEE CIS\\test_transaction.csv\")\n",
    "data1_desc=data2.describe()"
   ]
  },
  {
   "cell_type": "code",
   "execution_count": 28,
   "metadata": {},
   "outputs": [
    {
     "data": {
      "text/html": [
       "<div>\n",
       "<style scoped>\n",
       "    .dataframe tbody tr th:only-of-type {\n",
       "        vertical-align: middle;\n",
       "    }\n",
       "\n",
       "    .dataframe tbody tr th {\n",
       "        vertical-align: top;\n",
       "    }\n",
       "\n",
       "    .dataframe thead th {\n",
       "        text-align: right;\n",
       "    }\n",
       "</style>\n",
       "<table border=\"1\" class=\"dataframe\">\n",
       "  <thead>\n",
       "    <tr style=\"text-align: right;\">\n",
       "      <th></th>\n",
       "      <th>TransactionID</th>\n",
       "      <th>TransactionDT</th>\n",
       "      <th>TransactionAmt</th>\n",
       "      <th>ProductCD</th>\n",
       "      <th>card1</th>\n",
       "      <th>card2</th>\n",
       "      <th>card3</th>\n",
       "      <th>card4</th>\n",
       "      <th>card5</th>\n",
       "      <th>card6</th>\n",
       "      <th>...</th>\n",
       "      <th>V330</th>\n",
       "      <th>V331</th>\n",
       "      <th>V332</th>\n",
       "      <th>V333</th>\n",
       "      <th>V334</th>\n",
       "      <th>V335</th>\n",
       "      <th>V336</th>\n",
       "      <th>V337</th>\n",
       "      <th>V338</th>\n",
       "      <th>V339</th>\n",
       "    </tr>\n",
       "  </thead>\n",
       "  <tbody>\n",
       "    <tr>\n",
       "      <th>0</th>\n",
       "      <td>3663549</td>\n",
       "      <td>18403224</td>\n",
       "      <td>31.95</td>\n",
       "      <td>W</td>\n",
       "      <td>10409</td>\n",
       "      <td>111.0</td>\n",
       "      <td>150.0</td>\n",
       "      <td>visa</td>\n",
       "      <td>226.0</td>\n",
       "      <td>debit</td>\n",
       "      <td>...</td>\n",
       "      <td>NaN</td>\n",
       "      <td>NaN</td>\n",
       "      <td>NaN</td>\n",
       "      <td>NaN</td>\n",
       "      <td>NaN</td>\n",
       "      <td>NaN</td>\n",
       "      <td>NaN</td>\n",
       "      <td>NaN</td>\n",
       "      <td>NaN</td>\n",
       "      <td>NaN</td>\n",
       "    </tr>\n",
       "    <tr>\n",
       "      <th>1</th>\n",
       "      <td>3663550</td>\n",
       "      <td>18403263</td>\n",
       "      <td>49.00</td>\n",
       "      <td>W</td>\n",
       "      <td>4272</td>\n",
       "      <td>111.0</td>\n",
       "      <td>150.0</td>\n",
       "      <td>visa</td>\n",
       "      <td>226.0</td>\n",
       "      <td>debit</td>\n",
       "      <td>...</td>\n",
       "      <td>NaN</td>\n",
       "      <td>NaN</td>\n",
       "      <td>NaN</td>\n",
       "      <td>NaN</td>\n",
       "      <td>NaN</td>\n",
       "      <td>NaN</td>\n",
       "      <td>NaN</td>\n",
       "      <td>NaN</td>\n",
       "      <td>NaN</td>\n",
       "      <td>NaN</td>\n",
       "    </tr>\n",
       "    <tr>\n",
       "      <th>2</th>\n",
       "      <td>3663551</td>\n",
       "      <td>18403310</td>\n",
       "      <td>171.00</td>\n",
       "      <td>W</td>\n",
       "      <td>4476</td>\n",
       "      <td>574.0</td>\n",
       "      <td>150.0</td>\n",
       "      <td>visa</td>\n",
       "      <td>226.0</td>\n",
       "      <td>debit</td>\n",
       "      <td>...</td>\n",
       "      <td>NaN</td>\n",
       "      <td>NaN</td>\n",
       "      <td>NaN</td>\n",
       "      <td>NaN</td>\n",
       "      <td>NaN</td>\n",
       "      <td>NaN</td>\n",
       "      <td>NaN</td>\n",
       "      <td>NaN</td>\n",
       "      <td>NaN</td>\n",
       "      <td>NaN</td>\n",
       "    </tr>\n",
       "    <tr>\n",
       "      <th>3</th>\n",
       "      <td>3663552</td>\n",
       "      <td>18403310</td>\n",
       "      <td>284.95</td>\n",
       "      <td>W</td>\n",
       "      <td>10989</td>\n",
       "      <td>360.0</td>\n",
       "      <td>150.0</td>\n",
       "      <td>visa</td>\n",
       "      <td>166.0</td>\n",
       "      <td>debit</td>\n",
       "      <td>...</td>\n",
       "      <td>NaN</td>\n",
       "      <td>NaN</td>\n",
       "      <td>NaN</td>\n",
       "      <td>NaN</td>\n",
       "      <td>NaN</td>\n",
       "      <td>NaN</td>\n",
       "      <td>NaN</td>\n",
       "      <td>NaN</td>\n",
       "      <td>NaN</td>\n",
       "      <td>NaN</td>\n",
       "    </tr>\n",
       "    <tr>\n",
       "      <th>4</th>\n",
       "      <td>3663553</td>\n",
       "      <td>18403317</td>\n",
       "      <td>67.95</td>\n",
       "      <td>W</td>\n",
       "      <td>18018</td>\n",
       "      <td>452.0</td>\n",
       "      <td>150.0</td>\n",
       "      <td>mastercard</td>\n",
       "      <td>117.0</td>\n",
       "      <td>debit</td>\n",
       "      <td>...</td>\n",
       "      <td>NaN</td>\n",
       "      <td>NaN</td>\n",
       "      <td>NaN</td>\n",
       "      <td>NaN</td>\n",
       "      <td>NaN</td>\n",
       "      <td>NaN</td>\n",
       "      <td>NaN</td>\n",
       "      <td>NaN</td>\n",
       "      <td>NaN</td>\n",
       "      <td>NaN</td>\n",
       "    </tr>\n",
       "  </tbody>\n",
       "</table>\n",
       "<p>5 rows × 393 columns</p>\n",
       "</div>"
      ],
      "text/plain": [
       "   TransactionID  TransactionDT  TransactionAmt ProductCD  card1  card2  \\\n",
       "0        3663549       18403224           31.95         W  10409  111.0   \n",
       "1        3663550       18403263           49.00         W   4272  111.0   \n",
       "2        3663551       18403310          171.00         W   4476  574.0   \n",
       "3        3663552       18403310          284.95         W  10989  360.0   \n",
       "4        3663553       18403317           67.95         W  18018  452.0   \n",
       "\n",
       "   card3       card4  card5  card6  ...  V330  V331  V332  V333 V334 V335  \\\n",
       "0  150.0        visa  226.0  debit  ...   NaN   NaN   NaN   NaN  NaN  NaN   \n",
       "1  150.0        visa  226.0  debit  ...   NaN   NaN   NaN   NaN  NaN  NaN   \n",
       "2  150.0        visa  226.0  debit  ...   NaN   NaN   NaN   NaN  NaN  NaN   \n",
       "3  150.0        visa  166.0  debit  ...   NaN   NaN   NaN   NaN  NaN  NaN   \n",
       "4  150.0  mastercard  117.0  debit  ...   NaN   NaN   NaN   NaN  NaN  NaN   \n",
       "\n",
       "   V336  V337  V338  V339  \n",
       "0   NaN   NaN   NaN   NaN  \n",
       "1   NaN   NaN   NaN   NaN  \n",
       "2   NaN   NaN   NaN   NaN  \n",
       "3   NaN   NaN   NaN   NaN  \n",
       "4   NaN   NaN   NaN   NaN  \n",
       "\n",
       "[5 rows x 393 columns]"
      ]
     },
     "execution_count": 28,
     "metadata": {},
     "output_type": "execute_result"
    }
   ],
   "source": [
    "data2.head()"
   ]
  },
  {
   "cell_type": "code",
   "execution_count": 29,
   "metadata": {},
   "outputs": [
    {
     "name": "stdout",
     "output_type": "stream",
     "text": [
      "       TransactionID  TransactionDT  TransactionAmt          card1  \\\n",
      "count   5.066910e+05   5.066910e+05   506691.000000  506691.000000   \n",
      "mean    3.916894e+06   2.692994e+07      134.725568    9957.222175   \n",
      "std     1.462692e+05   4.756507e+06      245.779822    4884.960969   \n",
      "min     3.663549e+06   1.840322e+07        0.018000    1001.000000   \n",
      "25%     3.790222e+06   2.277154e+07       40.000000    6019.000000   \n",
      "50%     3.916894e+06   2.720466e+07       67.950000    9803.000000   \n",
      "75%     4.043566e+06   3.134856e+07      125.000000   14276.000000   \n",
      "max     4.170239e+06   3.421434e+07    10270.000000   18397.000000   \n",
      "\n",
      "               card2          card3          card5          addr1  \\\n",
      "count  498037.000000  503689.000000  502144.000000  441082.000000   \n",
      "mean      363.735379     153.543409     200.162975     291.846514   \n",
      "std       158.688653      12.443013      40.562461     102.062730   \n",
      "min       100.000000     100.000000     100.000000     100.000000   \n",
      "25%       207.000000     150.000000     166.000000     204.000000   \n",
      "50%       369.000000     150.000000     226.000000     299.000000   \n",
      "75%       512.000000     150.000000     226.000000     330.000000   \n",
      "max       600.000000     232.000000     237.000000     540.000000   \n",
      "\n",
      "               addr2          dist1  ...          V330          V331  \\\n",
      "count  441082.000000  215474.000000  ...  76431.000000  7.643100e+04   \n",
      "mean       86.723412      87.065270  ...      0.309900  3.151286e+02   \n",
      "std         2.987328     314.131694  ...      2.632181  9.494045e+03   \n",
      "min        10.000000       0.000000  ...      0.000000  0.000000e+00   \n",
      "25%        87.000000       3.000000  ...      0.000000  0.000000e+00   \n",
      "50%        87.000000       8.000000  ...      0.000000  0.000000e+00   \n",
      "75%        87.000000      20.000000  ...      0.000000  0.000000e+00   \n",
      "max       102.000000    8081.000000  ...    106.000000  1.040658e+06   \n",
      "\n",
      "               V332          V333          V334          V335          V336  \\\n",
      "count  7.643100e+04  7.643100e+04  76431.000000  76431.000000  76431.000000   \n",
      "mean   4.404643e+02  3.811021e+02     24.708030     58.339468     35.485643   \n",
      "std    1.064843e+04  1.039556e+04    842.913287    990.361078    904.093921   \n",
      "min    0.000000e+00  0.000000e+00      0.000000      0.000000      0.000000   \n",
      "25%    0.000000e+00  0.000000e+00      0.000000      0.000000      0.000000   \n",
      "50%    0.000000e+00  0.000000e+00      0.000000      0.000000      0.000000   \n",
      "75%    0.000000e+00  0.000000e+00      0.000000      0.000000      0.000000   \n",
      "max    1.040658e+06  1.040658e+06  64800.000000  64800.000000  64800.000000   \n",
      "\n",
      "                V337           V338           V339  \n",
      "count   76431.000000   76431.000000   76431.000000  \n",
      "mean       99.058760     155.578153     139.814706  \n",
      "std      2436.074522    4544.303974    4493.728267  \n",
      "min         0.000000       0.000000       0.000000  \n",
      "25%         0.000000       0.000000       0.000000  \n",
      "50%         0.000000       0.000000       0.000000  \n",
      "75%         0.000000       0.000000       0.000000  \n",
      "max    375000.000000  612500.000000  612500.000000  \n",
      "\n",
      "[8 rows x 379 columns]\n"
     ]
    }
   ],
   "source": [
    "print(data1_desc)"
   ]
  },
  {
   "cell_type": "code",
   "execution_count": 30,
   "metadata": {},
   "outputs": [],
   "source": [
    "data2['ProductCD']=data2['ProductCD'].map({'W':1,'H':2,'C':3,'S':4,'R':5})"
   ]
  },
  {
   "cell_type": "code",
   "execution_count": 31,
   "metadata": {},
   "outputs": [],
   "source": [
    "data2['card1'].fillna(-999,inplace=True)\n",
    "data2['card2'].fillna(-999,inplace=True)\n",
    "data2['card3'].fillna(-999,inplace=True)\n",
    "data2['card5'].fillna(-999,inplace=True)"
   ]
  },
  {
   "cell_type": "code",
   "execution_count": 32,
   "metadata": {},
   "outputs": [],
   "source": [
    "data2['card4'].fillna(\"No Card\", inplace=True)\n",
    "data2['card4']=data2['card4'].map({'discover':1,'mastercard':2,'visa':3,'american express':4,'No Card':-999})"
   ]
  },
  {
   "cell_type": "code",
   "execution_count": 33,
   "metadata": {},
   "outputs": [],
   "source": [
    "data2['card6'].fillna(\"No Card\",inplace=True)\n",
    "data2['card6']=data2['card6'].map({'credit':1,'debit':2,'No Card':-999,'debit or credit':3,'charge card':4})"
   ]
  },
  {
   "cell_type": "code",
   "execution_count": 34,
   "metadata": {},
   "outputs": [],
   "source": [
    "data2['addr1'].fillna(-999,inplace=True)\n",
    "data2['addr2'].fillna(-999,inplace=True)\n",
    "data2['dist1'].fillna(-999,inplace=True)\n",
    "data2['dist2'].fillna(-999,inplace=True)"
   ]
  },
  {
   "cell_type": "code",
   "execution_count": 35,
   "metadata": {},
   "outputs": [
    {
     "name": "stderr",
     "output_type": "stream",
     "text": [
      "c:\\python37\\lib\\site-packages\\sklearn\\utils\\deprecation.py:66: DeprecationWarning: Class Imputer is deprecated; Imputer was deprecated in version 0.20 and will be removed in 0.22. Import impute.SimpleImputer from sklearn instead.\n",
      "  warnings.warn(msg, category=DeprecationWarning)\n"
     ]
    }
   ],
   "source": [
    "from sklearn.preprocessing import Imputer\n",
    "imp=Imputer(missing_values='NaN',strategy='most_frequent',axis=0)\n",
    "imp=imp.fit(data2.loc[:,'C1':'C14'])\n",
    "data2.loc[:,'C1':'C14']=imp.transform(data2.loc[:,'C1':'C14'])"
   ]
  },
  {
   "cell_type": "code",
   "execution_count": 36,
   "metadata": {},
   "outputs": [
    {
     "name": "stderr",
     "output_type": "stream",
     "text": [
      "c:\\python37\\lib\\site-packages\\sklearn\\utils\\deprecation.py:66: DeprecationWarning: Class Imputer is deprecated; Imputer was deprecated in version 0.20 and will be removed in 0.22. Import impute.SimpleImputer from sklearn instead.\n",
      "  warnings.warn(msg, category=DeprecationWarning)\n"
     ]
    }
   ],
   "source": [
    "from sklearn.preprocessing import Imputer\n",
    "imp=Imputer(missing_values='NaN',strategy='most_frequent',axis=0)\n",
    "imp=imp.fit(data2.loc[:,'D1':'D15'])\n",
    "data2.loc[:,'D1':'D15']=imp.transform(data2.loc[:,'D1':'D15'])"
   ]
  },
  {
   "cell_type": "code",
   "execution_count": 37,
   "metadata": {},
   "outputs": [],
   "source": [
    "data2['M1'].fillna(\"No Type\",inplace=True)\n",
    "data2['M2'].fillna(\"No Type\",inplace=True)\n",
    "data2['M3'].fillna(\"No Type\",inplace=True)\n",
    "data2['M5'].fillna(\"No Type\",inplace=True)\n",
    "data2['M6'].fillna(\"No Type\",inplace=True)\n",
    "data2['M7'].fillna(\"No Type\",inplace=True)\n",
    "data2['M8'].fillna(\"No Type\",inplace=True)\n",
    "data2['M9'].fillna(\"No Type\",inplace=True)"
   ]
  },
  {
   "cell_type": "code",
   "execution_count": 38,
   "metadata": {},
   "outputs": [],
   "source": [
    "data2['M1']=data2['M1'].map({'T':1,'F':0,'No Type':-999})\n",
    "data2['M2']=data2['M2'].map({'T':1,'F':0,'No Type':-999})\n",
    "data2['M3']=data2['M3'].map({'T':1,'F':0,'No Type':-999})\n",
    "data2['M5']=data2['M5'].map({'T':1,'F':0,'No Type':-999})\n",
    "data2['M6']=data2['M6'].map({'T':1,'F':0,'No Type':-999})\n",
    "data2['M7']=data2['M7'].map({'T':1,'F':0,'No Type':-999})\n",
    "data2['M8']=data2['M8'].map({'T':1,'F':0,'No Type':-999})\n",
    "data2['M9']=data2['M9'].map({'T':1,'F':0,'No Type':-999})"
   ]
  },
  {
   "cell_type": "code",
   "execution_count": 39,
   "metadata": {},
   "outputs": [],
   "source": [
    "data2=data2.drop(['P_emaildomain'],axis=1)\n",
    "data2=data2.drop(['R_emaildomain'],axis=1)"
   ]
  },
  {
   "cell_type": "code",
   "execution_count": 40,
   "metadata": {},
   "outputs": [],
   "source": [
    "data2['M4'].fillna(\"No Type\",inplace=True)\n",
    "data2['M4']=data2['M4'].map({'M0':0,'M1':1,'M2':2,'No Type':-999})"
   ]
  },
  {
   "cell_type": "code",
   "execution_count": 41,
   "metadata": {},
   "outputs": [
    {
     "name": "stderr",
     "output_type": "stream",
     "text": [
      "c:\\python37\\lib\\site-packages\\sklearn\\utils\\deprecation.py:66: DeprecationWarning: Class Imputer is deprecated; Imputer was deprecated in version 0.20 and will be removed in 0.22. Import impute.SimpleImputer from sklearn instead.\n",
      "  warnings.warn(msg, category=DeprecationWarning)\n"
     ]
    }
   ],
   "source": [
    "from sklearn.preprocessing import Imputer\n",
    "imp=Imputer(missing_values='NaN',strategy='most_frequent',axis=0)\n",
    "imp=imp.fit(data2.loc[:,'V1':'V339'])\n",
    "data2.loc[:,'V1':'V339']=imp.transform(data2.loc[:,'V1':'V339'])"
   ]
  },
  {
   "cell_type": "code",
   "execution_count": 93,
   "metadata": {},
   "outputs": [],
   "source": [
    "import datetime \n",
    "START_DATE = '2017-12-01'\n",
    "startdate = datetime.datetime.strptime(START_DATE, '%Y-%m-%d')\n",
    "data2['TransactionDT'] =data2['TransactionDT'].apply(lambda x: (startdate + datetime.timedelta(seconds = x)))"
   ]
  },
  {
   "cell_type": "code",
   "execution_count": 95,
   "metadata": {},
   "outputs": [],
   "source": [
    "data2['TransactionDT']=data2['TransactionDT'].astype(str)\n",
    "data2=data2.join(data2.TransactionDT.str.split(expand=True))"
   ]
  },
  {
   "cell_type": "code",
   "execution_count": 96,
   "metadata": {},
   "outputs": [],
   "source": [
    "data2.rename(columns={0:'DT',1:'Time'},inplace=True)"
   ]
  },
  {
   "cell_type": "code",
   "execution_count": 97,
   "metadata": {},
   "outputs": [
    {
     "name": "stdout",
     "output_type": "stream",
     "text": [
      "DatetimeIndex(['2018-07-04', '2018-09-03', '2018-10-08', '2018-11-12',\n",
      "               '2018-11-22', '2018-12-25'],\n",
      "              dtype='datetime64[ns]', freq=None)\n",
      "0         False\n",
      "1         False\n",
      "2         False\n",
      "3         False\n",
      "4         False\n",
      "          ...  \n",
      "506686    False\n",
      "506687    False\n",
      "506688    False\n",
      "506689    False\n",
      "506690    False\n",
      "Name: IsHoliday, Length: 506691, dtype: bool\n"
     ]
    }
   ],
   "source": [
    "from pandas.tseries.holiday import USFederalHolidayCalendar as calendar\n",
    "dr = data2['DT']\n",
    "cal = calendar()\n",
    "holidays = cal.holidays(start=dr.min(), end=dr.max())\n",
    "print(holidays)\n",
    "data2['IsHoliday'] = data2['DT'].isin(holidays)\n",
    "print(data2['IsHoliday'])"
   ]
  },
  {
   "cell_type": "code",
   "execution_count": 98,
   "metadata": {},
   "outputs": [],
   "source": [
    "data2=data2.drop(['DT'],axis=1)\n",
    "data2=data2.drop(['Time'],axis=1)"
   ]
  },
  {
   "cell_type": "code",
   "execution_count": 99,
   "metadata": {},
   "outputs": [],
   "source": [
    "add_datepart(data2,'TransactionDT')"
   ]
  },
  {
   "cell_type": "code",
   "execution_count": 100,
   "metadata": {},
   "outputs": [],
   "source": [
    "data2=data2.drop(['TransactionDTDayofyear'],axis=1)\n",
    "data2=data2.drop(['TransactionDTIs_quarter_end'],axis=1)\n",
    "data2=data2.drop(['TransactionDTIs_quarter_start'],axis=1)\n",
    "data2=data2.drop(['TransactionDTElapsed'],axis=1) "
   ]
  },
  {
   "cell_type": "code",
   "execution_count": 101,
   "metadata": {},
   "outputs": [],
   "source": [
    "data2['TransactionDTIs_month_end']=data2['TransactionDTIs_month_end'].astype(int)\n",
    "data2['TransactionDTIs_month_start']=data2['TransactionDTIs_month_start'].astype(int)\n",
    "data2['TransactionDTIs_year_end']=data2['TransactionDTIs_year_end'].astype(int)\n",
    "data2['TransactionDTIs_year_start']=data2['TransactionDTIs_year_start'].astype(int)\n",
    "data2['IsHoliday']=data2['IsHoliday'].astype(int)"
   ]
  },
  {
   "cell_type": "code",
   "execution_count": 102,
   "metadata": {},
   "outputs": [
    {
     "name": "stdout",
     "output_type": "stream",
     "text": [
      "        TransactionID  TransactionAmt ProductCD  card1  card2  card3  \\\n",
      "0             3663549          31.950         W  10409  111.0  150.0   \n",
      "1             3663550          49.000         W   4272  111.0  150.0   \n",
      "2             3663551         171.000         W   4476  574.0  150.0   \n",
      "3             3663552         284.950         W  10989  360.0  150.0   \n",
      "4             3663553          67.950         W  18018  452.0  150.0   \n",
      "...               ...             ...       ...    ...    ...    ...   \n",
      "506686        4170235          94.679         C  13832  375.0  185.0   \n",
      "506687        4170236          12.173         C   3154  408.0  185.0   \n",
      "506688        4170237          49.000         W  16661  490.0  150.0   \n",
      "506689        4170238         202.000         W  16621  516.0  150.0   \n",
      "506690        4170239          24.346         C   5713  168.0  144.0   \n",
      "\n",
      "             card4  card5   card6  addr1  ...  TransactionDTWeek  \\\n",
      "0             visa  226.0   debit  170.0  ...                 27   \n",
      "1             visa  226.0   debit  299.0  ...                 27   \n",
      "2             visa  226.0   debit  472.0  ...                 27   \n",
      "3             visa  166.0   debit  205.0  ...                 27   \n",
      "4       mastercard  117.0   debit  264.0  ...                 27   \n",
      "...            ...    ...     ...    ...  ...                ...   \n",
      "506686  mastercard  224.0   debit  284.0  ...                  1   \n",
      "506687  mastercard  224.0   debit    NaN  ...                  1   \n",
      "506688        visa  226.0   debit  327.0  ...                  1   \n",
      "506689  mastercard  224.0   debit  177.0  ...                  1   \n",
      "506690        visa  147.0  credit    NaN  ...                  1   \n",
      "\n",
      "        TransactionDTDay  TransactionDTDayofweek TransactionDTIs_month_end  \\\n",
      "0                      2                       0                         0   \n",
      "1                      2                       0                         0   \n",
      "2                      2                       0                         0   \n",
      "3                      2                       0                         0   \n",
      "4                      2                       0                         0   \n",
      "...                  ...                     ...                       ...   \n",
      "506686                31                       0                         1   \n",
      "506687                31                       0                         1   \n",
      "506688                31                       0                         1   \n",
      "506689                31                       0                         1   \n",
      "506690                31                       0                         1   \n",
      "\n",
      "       TransactionDTIs_month_start  TransactionDTIs_year_end  \\\n",
      "0                                0                         0   \n",
      "1                                0                         0   \n",
      "2                                0                         0   \n",
      "3                                0                         0   \n",
      "4                                0                         0   \n",
      "...                            ...                       ...   \n",
      "506686                           0                         1   \n",
      "506687                           0                         1   \n",
      "506688                           0                         1   \n",
      "506689                           0                         1   \n",
      "506690                           0                         1   \n",
      "\n",
      "        TransactionDTIs_year_start  TransactionDTHour  TransactionDTMinute  \\\n",
      "0                                0                  0                    0   \n",
      "1                                0                  0                    1   \n",
      "2                                0                  0                    1   \n",
      "3                                0                  0                    1   \n",
      "4                                0                  0                    1   \n",
      "...                            ...                ...                  ...   \n",
      "506686                           0                 23                   57   \n",
      "506687                           0                 23                   58   \n",
      "506688                           0                 23                   58   \n",
      "506689                           0                 23                   58   \n",
      "506690                           0                 23                   59   \n",
      "\n",
      "        TransactionDTSecond  \n",
      "0                        24  \n",
      "1                         3  \n",
      "2                        50  \n",
      "3                        50  \n",
      "4                        57  \n",
      "...                     ...  \n",
      "506686                   59  \n",
      "506687                    7  \n",
      "506688                   46  \n",
      "506689                   57  \n",
      "506690                    5  \n",
      "\n",
      "[506691 rows x 405 columns]\n"
     ]
    }
   ],
   "source": [
    "print(data2)"
   ]
  },
  {
   "cell_type": "code",
   "execution_count": 44,
   "metadata": {},
   "outputs": [],
   "source": [
    "df2=pd.read_csv(r\"D:\\Documents\\ML\\Kaggle\\IEEE CIS\\test_identity.csv\")"
   ]
  },
  {
   "cell_type": "code",
   "execution_count": 45,
   "metadata": {},
   "outputs": [],
   "source": [
    "df2=df2.drop(['id_01'],axis=1)\n",
    "df2=df2.drop(['id_02'],axis=1)\n",
    "df2=df2.drop(['id_03'],axis=1)\n",
    "df2=df2.drop(['id_04'],axis=1)\n",
    "df2=df2.drop(['id_05'],axis=1)\n",
    "df2=df2.drop(['id_06'],axis=1)\n",
    "df2=df2.drop(['id_07'],axis=1)\n",
    "df2=df2.drop(['id_08'],axis=1)\n",
    "df2=df2.drop(['id_09'],axis=1)\n",
    "df2=df2.drop(['id_10'],axis=1)\n",
    "df2=df2.drop(['id_11'],axis=1)\n",
    "df2=df2.drop(['DeviceInfo'],axis=1)"
   ]
  },
  {
   "cell_type": "code",
   "execution_count": 46,
   "metadata": {},
   "outputs": [],
   "source": [
    "df2['id_12'].fillna(\"None\",inplace=True)\n",
    "df2['id_12']=df2['id_12'].map({\"None\":-999,\"NotFound\":0,\"Found\":1})"
   ]
  },
  {
   "cell_type": "code",
   "execution_count": null,
   "metadata": {},
   "outputs": [],
   "source": [
    "df2['id_13'].fillna(-999,inplace=True)\n",
    "df2['id_14'].fillna(-999,inplace=True)"
   ]
  },
  {
   "cell_type": "code",
   "execution_count": null,
   "metadata": {},
   "outputs": [],
   "source": [
    "df2['id_15'].fillna(\"None\",inplace=True)\n",
    "df2['id_15'] = df2['id_15'].map({'Unknown':0, 'New':2, 'Found':1,'None':-999})"
   ]
  },
  {
   "cell_type": "code",
   "execution_count": null,
   "metadata": {},
   "outputs": [],
   "source": [
    "df2['id_16'].fillna(\"None\",inplace=True)\n",
    "df2['id_16'] = df2['id_16'].map({'NotFound':0, 'Found':1,'None':-999})"
   ]
  },
  {
   "cell_type": "code",
   "execution_count": null,
   "metadata": {},
   "outputs": [],
   "source": [
    "df2['id_17'].fillna(-999,inplace=True)\n",
    "df2['id_18'].fillna(-999,inplace=True)\n",
    "df2['id_19'].fillna(-999,inplace=True)\n",
    "df2['id_20'].fillna(-999,inplace=True)"
   ]
  },
  {
   "cell_type": "code",
   "execution_count": null,
   "metadata": {},
   "outputs": [],
   "source": [
    "df2=df2.drop(['id_21'],axis=1)\n",
    "df2=df2.drop(['id_22'],axis=1)\n",
    "df2=df2.drop(['id_23'],axis=1)\n",
    "df2=df2.drop(['id_24'],axis=1)\n",
    "df2=df2.drop(['id_25'],axis=1)\n",
    "df2=df2.drop(['id_26'],axis=1)\n",
    "df2=df2.drop(['id_27'],axis=1)"
   ]
  },
  {
   "cell_type": "code",
   "execution_count": null,
   "metadata": {},
   "outputs": [],
   "source": [
    "df2['id_28'].fillna(\"None\",inplace=True)\n",
    "df2['id_28'] = df2['id_28'].map({'New':2, 'Found':1,'None':-999})"
   ]
  },
  {
   "cell_type": "code",
   "execution_count": null,
   "metadata": {},
   "outputs": [],
   "source": [
    "df2['id_29'].fillna(\"None\",inplace=True)\n",
    "df2['id_29'] = df2['id_29'].map({'Found':1, 'NotFound':0,'None':-999})"
   ]
  },
  {
   "cell_type": "code",
   "execution_count": null,
   "metadata": {},
   "outputs": [],
   "source": [
    "df2['id_30'].fillna(\"None\",inplace=True)\n",
    "df2['id_30']=df2['id_30'].map({'Android 7.0':1,'iOS 11.1.2':2,'None':-999,'Mac OS X 10_11_6':3,'Windows 10':4,'Android':5,'Linux':6,'iOS 11.0.3':7,'Mac OS X 10_7_5':8,'Mac OS X 10_12_6':9,'Mac OS X 10_13_1':10,'iOS 11.1.0':11,'Mac OS X 10_9_5':12, 'Windows 7':13,'Windows 8.1':14,'Mac':15,'iOS 10.3.3':16,'Mac OS X 10.12':17,'Mac OS X 10_10_5':18,'Mac OS X 10_11_5':19,'iOS 9.3.5':20,'Android 5.1.1':21,'Android 7.1.1':22,'Android 6.0':23,'iOS 10.3.1':24,'Mac OS X 10.9':25,'iOS 11.1.1':26,'Windows Vista':27,'iOS 10.3.2':28,'iOS 11.0.2':29,'Mac OS X 10.11':30,'Android 8.0.0':31,'iOS 10.2.0':32,'iOS 10.2.1':33,'iOS 11.0.0':34,'Mac OS X 10.10':35,'Mac OS X 10_12_3':36,'Mac OS X 10_12':37,'Android 6.0.1':38,'iOS':39,'Mac OS X 10.13':40,'Mac OS X 10_12_5':41,'Mac OS X 10_8_5':42,'iOS 11.0.1':43,'iOS 10.0.2':44,'Android 5.0.2':45,'Windows XP':46,'iOS 11.2.0':47,'Mac OS X 10.6':48,'Windows 8':49,'Mac OS X 10_6_8':50,'Mac OS X 10_11_4':51,'Mac OS X 10_12_1':52,'iOS 10.1.1':53,'Mac OS X 10_11_3':54,'Mac OS X 10_12_4':55,'Mac OS X 10_13_2':56,'Android 4.4.2':57,'Mac OS X 10_12_2':58,'Android 5.0':59,'func':60,'Android 7.1.2':61,'Android 8.1.0':62,'other':63,'Mac OS X 10_13_3':64,'iOS 11.2.1':65,'iOS 11.2.5':66,'Windows':67,'iOS 11.2.2':67,'iOS 11.3.0':68,'iOS 11.2.6':69,'Mac OS X 10_13_4':70,'Mac OS X 10_13_5':71,'iOS 11.4.0':72,'iOS 11.3.1':73,'iOS 11.4.1':74})"
   ]
  },
  {
   "cell_type": "code",
   "execution_count": null,
   "metadata": {},
   "outputs": [],
   "source": [
    "df2['id_31'].fillna(\"None\",inplace=True)\n",
    "df2['id_31']=df2['id_31'].map({'samsung browser 6.2':1,'mobile safari 11.0':2, 'chrome 62.0':3, 'None':4, 'chrome 62.0 for android':5, 'edge 15.0':6, 'mobile safari generic':7, 'chrome 49.0':8, 'chrome 61.0':9, 'edge 16.0':10, 'safari generic':11, 'edge 14.0':12, 'chrome 56.0 for android':13, 'firefox 57.0':14, 'chrome 54.0 for android':15, 'mobile safari uiwebview':16, 'chrome':17, 'chrome 62.0 for ios':18, 'firefox':19, 'chrome 60.0 for android':20, 'mobile safari 10.0':21, 'chrome 61.0 for android':22, 'ie 11.0 for desktop':23, 'ie 11.0 for tablet':24, 'mobile safari 9.0':25, 'chrome generic':26, 'other':27, 'chrome 59.0 for android':28, 'firefox 56.0':29, 'android webview 4.0':30, 'chrome 55.0':31, 'opera 49.0':32, 'ie':33, 'chrome 55.0 for android':34, 'firefox 52.0':35, 'chrome 57.0 for android':36, 'chrome 56.0':37, 'chrome 46.0 for android':38, 'chrome 58.0':39, 'firefox 48.0':40, 'chrome 59.0':41, 'samsung browser 4.0':42, 'edge 13.0':43, 'chrome 53.0 for android':44, 'chrome 58.0 for android':45, 'chrome 60.0':46, 'mobile safari 8.0':47, 'firefox generic':48, 'Generic/Android 7.0':49, 'mobile':50, 'Samsung/SM-G532M':51, 'chrome 50.0 for android':52, 'chrome 51.0 for android':53, 'chrome 63.0':54, 'chrome 52.0 for android':55, 'chrome 51.0':56, 'firefox 55.0':57, 'edge':58, 'opera':59, 'chrome generic for android':60, 'aol':61, 'samsung browser 5.4':62, 'Samsung/SCH':63, 'silk':64, 'chrome 57.0':65, 'firefox 47.0':66, 'chrome 63.0 for android':67, 'Samsung/SM-G531H':68, 'chrome 43.0 for android':69, 'waterfox':70, 'Nokia/Lumia':71, 'chrome 63.0 for ios':72, 'puffin':73, 'Microsoft/Windows':74, 'cyberfox':75, 'Generic/Android':76, 'samsung':77, 'opera generic':78, 'chrome 49.0 for android':79, 'ZTE/Blade':80, 'safari':81, 'android browser 4.0':82, 'samsung browser 5.2':83, 'palemoon':84, 'maxthon':85, 'line':86, 'LG/K-200':87, 'iron':88, 'BLU/Dash':89, 'seamonkey':90, 'firefox 58.0':91, 'chrome 64.0 for android':92, 'chrome 64.0':93, 'firefox 59.0':94, 'chrome 64.0 for ios':95, 'M4Tel/M4':96, 'comodo':97, 'Lanix/Ilium':98, 'samsung browser generic':99, 'chromium':100, 'opera 51.0':101, 'Inco/Minion':102, 'samsung browser 7.0':103, 'Mozilla/Firefox':103, 'samsung browser 4.2':104, 'samsung browser 6.4':105, 'chrome 65.0':106, 'chrome 65.0 for android':107, 'chrome 65.0 for ios':108, 'Cherry':108, 'icedragon':109, 'android':110, 'edge 17.0':111, 'chrome 66.0':112, 'chrome 66.0 for android':113, 'safari 11.0':114, 'safari 9.0':115, 'safari 10.0':116, 'google':117, 'chrome 66.0 for ios':118, 'google search application 48.0':119, 'opera 52.0':120, 'firefox 60.0':121, 'opera 53.0':123, 'samsung browser 3.3':124, 'google search application 49.0':125, 'facebook':126, 'firefox mobile 61.0':127, 'chrome 67.0':128, 'chrome 69.0':129, 'chrome 67.0 for android':130})"
   ]
  },
  {
   "cell_type": "code",
   "execution_count": null,
   "metadata": {},
   "outputs": [],
   "source": [
    "df2['id_32'].fillna(-999,inplace=True)\n",
    "df2['id_34'].fillna(-999,inplace=True)\n",
    "df2['id_34']=df2['id_34'].astype(str)\n",
    "df2['id_34']=df2['id_34'].map({'match_status:0':0,'match_status:1':1,'match_status:2':2,'match_status:-1':-1})"
   ]
  },
  {
   "cell_type": "code",
   "execution_count": null,
   "metadata": {},
   "outputs": [],
   "source": [
    "df['id_35'].fillna(\"None\",inplace=True)\n",
    "df['id_35'] = df['id_35'].map({'F':0, 'T':1,'None':-999})"
   ]
  },
  {
   "cell_type": "code",
   "execution_count": null,
   "metadata": {},
   "outputs": [],
   "source": [
    "df['id_36'].fillna(\"None\",inplace=True)\n",
    "df['id_36'] = df['id_36'].map({'F':0, 'T':1,'None':-999})"
   ]
  },
  {
   "cell_type": "code",
   "execution_count": null,
   "metadata": {},
   "outputs": [],
   "source": [
    "df['id_37'].fillna(\"None\",inplace=True)\n",
    "df['id_37'] = df['id_37'].map({'F':0, 'T':1,'None':-999})"
   ]
  },
  {
   "cell_type": "code",
   "execution_count": null,
   "metadata": {},
   "outputs": [],
   "source": [
    "df['id_38'].fillna(\"None\",inplace=True)\n",
    "df['id_38'] = df['id_38'].map({'F':0, 'T':1,'None':-999})"
   ]
  },
  {
   "cell_type": "code",
   "execution_count": null,
   "metadata": {},
   "outputs": [],
   "source": [
    "df['DeviceType'].fillna(-999,inplace=True)\n",
    "df['DeviceType']=df['DeviceType'].astype(str)\n",
    "df['DeviceType']=df['DeviceType'].map({'desktop':1,'mobile':2})"
   ]
  },
  {
   "cell_type": "code",
   "execution_count": 47,
   "metadata": {},
   "outputs": [],
   "source": [
    "test_dataset=pd.merge(data2,df2,how=\"outer\",on=\"TransactionID\")"
   ]
  },
  {
   "cell_type": "code",
   "execution_count": 48,
   "metadata": {},
   "outputs": [
    {
     "name": "stdout",
     "output_type": "stream",
     "text": [
      "       TransactionID  TransactionAmt      ProductCD         card1  \\\n",
      "count   1.419070e+05   141907.000000  141907.000000  141907.00000   \n",
      "mean    3.972166e+06       87.305353       3.375006    9934.10621   \n",
      "std     1.469966e+05      134.064104       1.071841    5036.35768   \n",
      "min     3.663586e+06        0.018000       2.000000    1001.00000   \n",
      "25%     3.859268e+06       25.000000       3.000000    5812.00000   \n",
      "50%     4.001774e+06       50.000000       3.000000    9755.00000   \n",
      "75%     4.105284e+06      100.000000       5.000000   15066.00000   \n",
      "max     4.170239e+06     2000.000000       5.000000   18397.00000   \n",
      "\n",
      "               card2          card3          card4          card5  \\\n",
      "count  141907.000000  141907.000000  141907.000000  141907.000000   \n",
      "mean      364.471076     153.118106      -5.457631     176.668529   \n",
      "std       244.019764     102.728485      90.121548     144.901651   \n",
      "min      -999.000000    -999.000000    -999.000000    -999.000000   \n",
      "25%       204.000000     150.000000       2.000000     138.000000   \n",
      "50%       408.000000     150.000000       3.000000     224.000000   \n",
      "75%       545.000000     185.000000       3.000000     226.000000   \n",
      "max       600.000000     232.000000       4.000000     237.000000   \n",
      "\n",
      "               card6          addr1  ...          id_29         id_32  \\\n",
      "count  141907.000000  141907.000000  ...  136778.000000  70671.000000   \n",
      "mean       -6.072632    -283.291698  ...       0.543494     26.217939   \n",
      "std        86.955088     649.810885  ...       0.498107      3.601046   \n",
      "min      -999.000000    -999.000000  ...       0.000000      8.000000   \n",
      "25%         1.000000    -999.000000  ...       0.000000     24.000000   \n",
      "50%         2.000000     181.000000  ...       1.000000     24.000000   \n",
      "75%         2.000000     315.000000  ...       1.000000     32.000000   \n",
      "max         4.000000     540.000000  ...       1.000000     48.000000   \n",
      "\n",
      "              id_34          id_35          id_36          id_37  \\\n",
      "count  72175.000000  136977.000000  136977.000000  136977.000000   \n",
      "mean       1.999986       0.523081       0.026939       0.764340   \n",
      "std        0.003722       0.499469       0.161905       0.424412   \n",
      "min        1.000000       0.000000       0.000000       0.000000   \n",
      "25%        2.000000       0.000000       0.000000       1.000000   \n",
      "50%        2.000000       1.000000       0.000000       1.000000   \n",
      "75%        2.000000       1.000000       0.000000       1.000000   \n",
      "max        2.000000       1.000000       1.000000       1.000000   \n",
      "\n",
      "               id_38     DeviceType        id_33_0        id_33_1  \n",
      "count  136977.000000  136931.000000  141907.000000  141907.000000  \n",
      "mean        0.306029       0.543361     939.677916     547.504246  \n",
      "std         0.460844       0.498118    1032.345250     604.191492  \n",
      "min         0.000000       0.000000       0.000000       0.000000  \n",
      "25%         0.000000       0.000000       0.000000       0.000000  \n",
      "50%         0.000000       1.000000       0.000000       0.000000  \n",
      "75%         1.000000       1.000000    1920.000000    1080.000000  \n",
      "max         1.000000       1.000000    8960.000000    5040.000000  \n",
      "\n",
      "[8 rows x 417 columns]\n"
     ]
    }
   ],
   "source": [
    "print(test_dataset.describe())"
   ]
  },
  {
   "cell_type": "code",
   "execution_count": 49,
   "metadata": {},
   "outputs": [
    {
     "name": "stdout",
     "output_type": "stream",
     "text": [
      "        TransactionID       TransactionDT  TransactionAmt  ProductCD  card1  \\\n",
      "0             3663586 2018-07-02 00:13:33           6.271          3  15885   \n",
      "1             3663588 2018-07-02 00:14:15          50.000          4   2453   \n",
      "2             3663597 2018-07-02 00:17:15          37.318          3  15885   \n",
      "3             3663601 2018-07-02 00:18:35           6.271          3  15885   \n",
      "4             3663602 2018-07-02 00:19:19          52.258          3   9633   \n",
      "5             3663622 2018-07-02 00:26:54          50.000          2  12839   \n",
      "6             3663624 2018-07-02 00:27:15          50.000          2  12839   \n",
      "7             3663626 2018-07-02 00:28:06          50.000          2  12839   \n",
      "8             3663629 2018-07-02 00:30:20          50.000          2  12839   \n",
      "9             3663658 2018-07-02 00:44:14          25.000          5   5721   \n",
      "10            3663669 2018-07-02 00:49:00          47.340          3   2650   \n",
      "11            3663677 2018-07-02 00:50:56          50.000          2   8394   \n",
      "12            3663693 2018-07-02 01:00:39         100.000          5   8431   \n",
      "13            3663702 2018-07-02 01:04:13          19.428          3   3154   \n",
      "14            3663704 2018-07-02 01:05:10         200.000          4   9803   \n",
      "15            3663708 2018-07-02 01:05:57          15.000          4  18132   \n",
      "16            3663710 2018-07-02 01:06:38         200.000          4   5209   \n",
      "17            3663714 2018-07-02 01:09:52          10.575          3  11837   \n",
      "18            3663715 2018-07-02 01:10:35           6.148          3  13832   \n",
      "19            3663716 2018-07-02 01:12:20          97.261          3  15138   \n",
      "20            3663737 2018-07-02 01:27:39          21.057          3   4461   \n",
      "21            3663744 2018-07-02 01:34:09         100.000          5   1214   \n",
      "22            3663747 2018-07-02 01:35:49          15.985          3  13832   \n",
      "23            3663754 2018-07-02 01:41:39          24.285          3   9300   \n",
      "24            3663755 2018-07-02 01:41:53          12.972          3  16136   \n",
      "25            3663758 2018-07-02 01:42:54          75.000          2   7482   \n",
      "26            3663769 2018-07-02 01:50:56           6.148          3   3154   \n",
      "27            3663773 2018-07-02 01:54:59         275.000          5   6019   \n",
      "28            3663778 2018-07-02 01:57:35         275.000          5  11092   \n",
      "29            3663780 2018-07-02 01:59:03         275.000          5  11092   \n",
      "...               ...                 ...             ...        ...    ...   \n",
      "141877        4170150 2018-12-31 23:31:04          10.821          3   4461   \n",
      "141878        4170151 2018-12-31 23:31:13           4.304          3   4461   \n",
      "141879        4170152 2018-12-31 23:31:18         200.000          5  16817   \n",
      "141880        4170154 2018-12-31 23:31:26          50.000          5   7585   \n",
      "141881        4170156 2018-12-31 23:31:40         200.000          5  16817   \n",
      "141882        4170157 2018-12-31 23:31:48          25.000          4  16659   \n",
      "141883        4170170 2018-12-31 23:36:27          19.059          3  13832   \n",
      "141884        4170172 2018-12-31 23:36:40          16.723          3  15885   \n",
      "141885        4170173 2018-12-31 23:37:28          10.144          3   4461   \n",
      "141886        4170177 2018-12-31 23:38:41          10.144          3   4461   \n",
      "141887        4170180 2018-12-31 23:39:39          10.144          3   4461   \n",
      "141888        4170184 2018-12-31 23:40:50          12.911          3   3213   \n",
      "141889        4170185 2018-12-31 23:41:13         100.000          2   6019   \n",
      "141890        4170187 2018-12-31 23:41:51          18.813          3   3154   \n",
      "141891        4170188 2018-12-31 23:42:40          36.765          3  13832   \n",
      "141892        4170192 2018-12-31 23:43:29          18.813          3   3154   \n",
      "141893        4170200 2018-12-31 23:45:42         100.000          5   2942   \n",
      "141894        4170214 2018-12-31 23:49:40          20.903          3   4461   \n",
      "141895        4170219 2018-12-31 23:52:18         142.019          3   4461   \n",
      "141896        4170223 2018-12-31 23:55:01          31.355          3  16136   \n",
      "141897        4170224 2018-12-31 23:55:25           7.009          3   2650   \n",
      "141898        4170225 2018-12-31 23:55:38          15.493          3  18250   \n",
      "141899        4170226 2018-12-31 23:55:47           7.009          3  15885   \n",
      "141900        4170228 2018-12-31 23:56:54          82.383          3   2275   \n",
      "141901        4170229 2018-12-31 23:56:56          56.131          3   5812   \n",
      "141902        4170230 2018-12-31 23:57:33          10.452          3   5812   \n",
      "141903        4170233 2018-12-31 23:57:51          13.403          3   3154   \n",
      "141904        4170234 2018-12-31 23:57:57          50.000          2   9002   \n",
      "141905        4170236 2018-12-31 23:58:07          12.173          3   3154   \n",
      "141906        4170239 2018-12-31 23:59:05          24.346          3   5713   \n",
      "\n",
      "        card2  card3  card4  card5  card6  ...  id_32      id_33  id_34  \\\n",
      "0       545.0  185.0      3  138.0      2  ...    NaN        NaN    NaN   \n",
      "1       399.0  150.0      4  137.0      1  ...   24.0   1280x720    2.0   \n",
      "2       545.0  185.0      3  138.0      2  ...    NaN        NaN    NaN   \n",
      "3       545.0  185.0      3  138.0      2  ...    NaN        NaN    NaN   \n",
      "4       130.0  185.0      3  138.0      2  ...    NaN        NaN    NaN   \n",
      "5       321.0  150.0      3  226.0      2  ...   32.0  2208x1242    2.0   \n",
      "6       321.0  150.0      3  226.0      2  ...   32.0  2208x1242    2.0   \n",
      "7       321.0  150.0      3  226.0      2  ...   32.0  2208x1242    2.0   \n",
      "8       321.0  150.0      3  226.0      2  ...   32.0  2208x1242    2.0   \n",
      "9       225.0  150.0      2  224.0      2  ...   32.0  2048x1536    2.0   \n",
      "10      142.0  185.0      2  224.0      2  ...    NaN        NaN    NaN   \n",
      "11      490.0  150.0      3  226.0      2  ...   24.0   1366x768    2.0   \n",
      "12      269.0  150.0      2  224.0      2  ...   32.0   1334x750    2.0   \n",
      "13      408.0  185.0      2  224.0      2  ...    NaN        NaN    NaN   \n",
      "14      583.0  150.0      3  226.0      1  ...   24.0   1366x768    2.0   \n",
      "15      567.0  150.0      2  117.0      2  ...   24.0   1440x900    2.0   \n",
      "16      555.0  150.0      3  195.0      1  ...    NaN        NaN    2.0   \n",
      "17      304.0  146.0      3  226.0      1  ...    NaN        NaN    NaN   \n",
      "18      375.0  185.0      2  224.0      2  ...    NaN        NaN    NaN   \n",
      "19      555.0  188.0      3  102.0      1  ...    NaN        NaN    NaN   \n",
      "20      375.0  185.0      2  224.0      2  ...    NaN        NaN    NaN   \n",
      "21      174.0  150.0      3  226.0      1  ...   32.0  2732x2048    2.0   \n",
      "22      375.0  185.0      2  224.0      2  ...    NaN        NaN    NaN   \n",
      "23      103.0  185.0      3  138.0      2  ...    NaN        NaN    NaN   \n",
      "24      204.0  185.0      3  138.0      2  ...    NaN        NaN    NaN   \n",
      "25      490.0  150.0      3  226.0      2  ...   24.0  1920x1080    2.0   \n",
      "26      408.0  185.0      2  224.0      2  ...    NaN        NaN    NaN   \n",
      "27      583.0  150.0      3  226.0      1  ...    NaN        NaN    NaN   \n",
      "28      399.0  150.0      4  198.0      1  ...    NaN        NaN    NaN   \n",
      "29      399.0  150.0      4  198.0      1  ...    NaN        NaN    NaN   \n",
      "...       ...    ...    ...    ...    ...  ...    ...        ...    ...   \n",
      "141877  375.0  185.0      2  224.0      2  ...    NaN        NaN    NaN   \n",
      "141878  375.0  185.0      2  224.0      2  ...    NaN        NaN    NaN   \n",
      "141879  321.0  150.0      3  226.0      1  ...   24.0  3360x2100    2.0   \n",
      "141880  553.0  150.0      3  226.0      1  ...   32.0  2220x1081    2.0   \n",
      "141881  321.0  150.0      3  226.0      1  ...   24.0  3360x2100    2.0   \n",
      "141882  170.0  150.0      3  226.0      1  ...   24.0   1600x900    2.0   \n",
      "141883  375.0  185.0      2  224.0      2  ...    NaN        NaN    NaN   \n",
      "141884  545.0  185.0      3  138.0      2  ...    NaN        NaN    NaN   \n",
      "141885  375.0  185.0      2  224.0      2  ...    NaN        NaN    NaN   \n",
      "141886  375.0  185.0      2  224.0      2  ...    NaN        NaN    NaN   \n",
      "141887  375.0  185.0      2  224.0      2  ...    NaN        NaN    NaN   \n",
      "141888  459.0  185.0      3  226.0      1  ...    NaN        NaN    NaN   \n",
      "141889  583.0  150.0      3  226.0      1  ...   32.0  2688x1242    2.0   \n",
      "141890  408.0  185.0      2  224.0      2  ...    NaN        NaN    NaN   \n",
      "141891  375.0  185.0      2  224.0      2  ...    NaN        NaN    NaN   \n",
      "141892  408.0  185.0      2  224.0      2  ...    NaN        NaN    NaN   \n",
      "141893  170.0  150.0      3  226.0      1  ...   24.0  2734x1824    2.0   \n",
      "141894  375.0  185.0      2  224.0      2  ...    NaN        NaN    NaN   \n",
      "141895  375.0  185.0      2  224.0      2  ...    NaN        NaN    NaN   \n",
      "141896  204.0  185.0      3  138.0      2  ...    NaN        NaN    NaN   \n",
      "141897  142.0  185.0      2  224.0      2  ...    NaN        NaN    NaN   \n",
      "141898  545.0  185.0      3  226.0      1  ...    NaN        NaN    NaN   \n",
      "141899  545.0  185.0      3  138.0      2  ...    NaN        NaN    NaN   \n",
      "141900  555.0  119.0      3  137.0      1  ...    NaN        NaN    NaN   \n",
      "141901  408.0  185.0      2  224.0      2  ...    NaN        NaN    NaN   \n",
      "141902  408.0  185.0      2  224.0      2  ...    NaN        NaN    NaN   \n",
      "141903  408.0  185.0      2  224.0      2  ...    NaN        NaN    NaN   \n",
      "141904  453.0  150.0      3  226.0      2  ...   32.0   1334x750    2.0   \n",
      "141905  408.0  185.0      2  224.0      2  ...    NaN        NaN    NaN   \n",
      "141906  168.0  144.0      3  147.0      1  ...    NaN        NaN    NaN   \n",
      "\n",
      "        id_35  id_36  id_37  id_38  DeviceType  id_33_0  id_33_1  \n",
      "0         0.0    0.0    1.0    0.0         0.0        0        0  \n",
      "1         1.0    0.0    1.0    1.0         0.0     1280      720  \n",
      "2         0.0    1.0    1.0    0.0         1.0        0        0  \n",
      "3         0.0    0.0    1.0    0.0         0.0        0        0  \n",
      "4         0.0    0.0    1.0    0.0         0.0        0        0  \n",
      "5         1.0    0.0    0.0    1.0         0.0     2208     1242  \n",
      "6         1.0    0.0    0.0    1.0         0.0     2208     1242  \n",
      "7         1.0    0.0    0.0    1.0         0.0     2208     1242  \n",
      "8         1.0    0.0    0.0    1.0         0.0     2208     1242  \n",
      "9         1.0    0.0    0.0    0.0         0.0     2048     1536  \n",
      "10        0.0    0.0    1.0    0.0         1.0        0        0  \n",
      "11        1.0    1.0    1.0    1.0         1.0     1366      768  \n",
      "12        1.0    0.0    0.0    1.0         0.0     1334      750  \n",
      "13        0.0    0.0    1.0    0.0         1.0        0        0  \n",
      "14        1.0    0.0    1.0    1.0         1.0     1366      768  \n",
      "15        1.0    0.0    1.0    1.0         1.0     1440      900  \n",
      "16        1.0    0.0    1.0    0.0         1.0        0        0  \n",
      "17        0.0    0.0    1.0    0.0         0.0        0        0  \n",
      "18        0.0    0.0    1.0    0.0         0.0        0        0  \n",
      "19        0.0    0.0    1.0    0.0         0.0        0        0  \n",
      "20        0.0    0.0    0.0    0.0         0.0        0        0  \n",
      "21        1.0    0.0    0.0    0.0         0.0     2732     2048  \n",
      "22        0.0    0.0    1.0    0.0         0.0        0        0  \n",
      "23        0.0    0.0    1.0    0.0         0.0        0        0  \n",
      "24        0.0    0.0    1.0    0.0         0.0        0        0  \n",
      "25        1.0    0.0    1.0    1.0         1.0     1920     1080  \n",
      "26        0.0    0.0    1.0    0.0         0.0        0        0  \n",
      "27        NaN    NaN    NaN    NaN         NaN        0        0  \n",
      "28        NaN    NaN    NaN    NaN         NaN        0        0  \n",
      "29        NaN    NaN    NaN    NaN         NaN        0        0  \n",
      "...       ...    ...    ...    ...         ...      ...      ...  \n",
      "141877    0.0    0.0    1.0    0.0         0.0        0        0  \n",
      "141878    0.0    0.0    0.0    0.0         0.0        0        0  \n",
      "141879    1.0    0.0    0.0    0.0         1.0     3360     2100  \n",
      "141880    1.0    0.0    1.0    0.0         0.0     2220     1081  \n",
      "141881    1.0    0.0    0.0    0.0         1.0     3360     2100  \n",
      "141882    1.0    0.0    1.0    1.0         1.0     1600      900  \n",
      "141883    0.0    0.0    1.0    0.0         0.0        0        0  \n",
      "141884    0.0    0.0    1.0    0.0         0.0        0        0  \n",
      "141885    0.0    0.0    1.0    0.0         0.0        0        0  \n",
      "141886    0.0    0.0    1.0    0.0         0.0        0        0  \n",
      "141887    0.0    0.0    1.0    0.0         0.0        0        0  \n",
      "141888    0.0    0.0    1.0    0.0         0.0        0        0  \n",
      "141889    1.0    0.0    0.0    1.0         0.0     2688     1242  \n",
      "141890    0.0    0.0    1.0    0.0         0.0        0        0  \n",
      "141891    0.0    0.0    1.0    0.0         0.0        0        0  \n",
      "141892    0.0    0.0    1.0    0.0         0.0        0        0  \n",
      "141893    1.0    0.0    1.0    0.0         1.0     2734     1824  \n",
      "141894    0.0    0.0    1.0    0.0         1.0        0        0  \n",
      "141895    0.0    0.0    1.0    0.0         1.0        0        0  \n",
      "141896    0.0    0.0    1.0    0.0         0.0        0        0  \n",
      "141897    0.0    0.0    0.0    0.0         0.0        0        0  \n",
      "141898    0.0    0.0    1.0    0.0         1.0        0        0  \n",
      "141899    0.0    0.0    1.0    0.0         0.0        0        0  \n",
      "141900    0.0    0.0    1.0    0.0         0.0        0        0  \n",
      "141901    0.0    0.0    1.0    0.0         1.0        0        0  \n",
      "141902    0.0    0.0    1.0    0.0         0.0        0        0  \n",
      "141903    0.0    0.0    1.0    0.0         0.0        0        0  \n",
      "141904    1.0    0.0    0.0    1.0         0.0     1334      750  \n",
      "141905    0.0    0.0    1.0    0.0         0.0        0        0  \n",
      "141906    0.0    0.0    1.0    0.0         0.0        0        0  \n",
      "\n",
      "[141907 rows x 421 columns]\n"
     ]
    }
   ],
   "source": [
    "print(test_dataset)"
   ]
  },
  {
   "cell_type": "code",
   "execution_count": null,
   "metadata": {},
   "outputs": [],
   "source": [
    "X2=dataset\n",
    "Y2=dataset['isFraud']\n",
    "X2=X2.drop(['isFraud'])"
   ]
  },
  {
   "cell_type": "code",
   "execution_count": null,
   "metadata": {},
   "outputs": [],
   "source": [
    "from xgboost import XGBClassifier\n",
    "classifier2=XGBClassifier()\n",
    "classifier2.fit(X2,Y2)\n",
    "y_pred2=classifier2.predict(test_dataset)"
   ]
  }
 ],
 "metadata": {
  "kernelspec": {
   "display_name": "Python 3",
   "language": "python",
   "name": "python3"
  },
  "language_info": {
   "codemirror_mode": {
    "name": "ipython",
    "version": 3
   },
   "file_extension": ".py",
   "mimetype": "text/x-python",
   "name": "python",
   "nbconvert_exporter": "python",
   "pygments_lexer": "ipython3",
   "version": "3.7.4"
  }
 },
 "nbformat": 4,
 "nbformat_minor": 2
}
